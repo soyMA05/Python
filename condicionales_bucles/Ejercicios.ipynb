{
 "cells": [
  {
   "attachments": {},
   "cell_type": "markdown",
   "metadata": {},
   "source": [
    "# Resolución de ejercicios básicos de python"
   ]
  },
  {
   "attachments": {},
   "cell_type": "markdown",
   "metadata": {},
   "source": [
    "## Ejercicios básicos en python\n",
    "En esta sección, se realizaran ejecicios básicos en python. Se trataran cadenas, bucles y condicionales.\n",
    " Los ejercicios realizados son tomados de la [página](https://www.w3resource.com/python-exercises/puzzles/index.php)"
   ]
  },
  {
   "attachments": {},
   "cell_type": "markdown",
   "metadata": {},
   "source": [
    " 1. Escribe un programa en Python para encontrar una lista de enteros con exactamente dos apariciones de diecinueve y al menos tres apariciones de cinco. Devolver True en caso contrario False. (Write a Python program to find a list of integers with exactly two occurrences of nineteen and at least three occurrences of five. Return True otherwise False )"
   ]
  },
  {
   "cell_type": "code",
   "execution_count": 8,
   "metadata": {},
   "outputs": [
    {
     "name": "stdout",
     "output_type": "stream",
     "text": [
      "True\n"
     ]
    }
   ],
   "source": [
    "lista = [19, 20, 19, 5, 3, 5, 5, 7]\n",
    "if lista.count(19) == 2 and lista.count(5) >=3:\n",
    "    print(True)\n",
    "else:\n",
    "    print(False)"
   ]
  },
  {
   "attachments": {},
   "cell_type": "markdown",
   "metadata": {},
   "source": [
    "**Ejercicio adicional**: Contar el numero de veces que se repite el número 9 y 5 en la lista."
   ]
  },
  {
   "cell_type": "code",
   "execution_count": 9,
   "metadata": {},
   "outputs": [
    {
     "name": "stdout",
     "output_type": "stream",
     "text": [
      "El 9 se repite 2 \n",
      "El 5 se repite 3\n"
     ]
    }
   ],
   "source": [
    "lista = [19, 20, 19, 5, 3, 5, 5, 7]\n",
    "print('El 9 se repite %s \\nEl 5 se repite %s'%(str(lista).count('9'), str(lista).count('5')))"
   ]
  },
  {
   "attachments": {},
   "cell_type": "markdown",
   "metadata": {},
   "source": [
    "2. Escribe un programa en Python que acepte una lista de enteros y calcule la longitud y el quinto elemento. Devuelve verdadero si la longitud de la lista es 8 y el quinto elemento aparece tres veces en dicha lista.\n",
    "(Write a Python program that accepts a list of integers and calculates the length and the fifth element. Return true if the length of the list is 8 and the fifth element occurs thrice in the said list.)"
   ]
  },
  {
   "cell_type": "code",
   "execution_count": 23,
   "metadata": {},
   "outputs": [
    {
     "name": "stdout",
     "output_type": "stream",
     "text": [
      "True\n"
     ]
    }
   ],
   "source": [
    "lista = [15, 20, 30, 19, 5, 23, 5, 5]\n",
    "es_entero = True\n",
    "\n",
    "for el in lista:\n",
    "    if type(el) != int:\n",
    "        es_entero= False\n",
    "        print('No todos los elementos de la lista son numeros enteros')\n",
    "        break\n",
    "\n",
    "if es_entero == True:\n",
    "    if len(lista)== 8 and lista.count(lista[4]) == 3:\n",
    "        print(True)"
   ]
  },
  {
   "attachments": {},
   "cell_type": "markdown",
   "metadata": {},
   "source": [
    "3. Escribe un programa en Python que acepte un entero y determine si ese numero es mayor que 4^4 y si el modulo de ese numero para 34 es igual a 4.\n",
    "Write a Python program that accepts an integer and determines whether it is greater than 4^4 and which is 4 mod 34."
   ]
  },
  {
   "cell_type": "code",
   "execution_count": 29,
   "metadata": {},
   "outputs": [
    {
     "name": "stdout",
     "output_type": "stream",
     "text": [
      "True\n"
     ]
    }
   ],
   "source": [
    "#922 854\n",
    "n = int(input('Ingrese un numero: '))\n",
    "if n > 4**4 and n%34==4:\n",
    "    print(True)\n"
   ]
  }
 ],
 "metadata": {
  "kernelspec": {
   "display_name": "Python 3",
   "language": "python",
   "name": "python3"
  },
  "language_info": {
   "codemirror_mode": {
    "name": "ipython",
    "version": 3
   },
   "file_extension": ".py",
   "mimetype": "text/x-python",
   "name": "python",
   "nbconvert_exporter": "python",
   "pygments_lexer": "ipython3",
   "version": "3.8.10"
  },
  "orig_nbformat": 4
 },
 "nbformat": 4,
 "nbformat_minor": 2
}
