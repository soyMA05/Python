{
 "cells": [
  {
   "cell_type": "markdown",
   "metadata": {},
   "source": [
    "# Python Object-Oriented Programming\n",
    "\n",
    "[Link de ejercicios](https://www.w3resource.com/python-exercises/oop/index.php)"
   ]
  },
  {
   "cell_type": "markdown",
   "metadata": {},
   "source": [
    "* **1.** Write a Python program to create a class representing a Circle. Include methods to calculate its area and perimeter."
   ]
  },
  {
   "cell_type": "code",
   "execution_count": null,
   "metadata": {},
   "outputs": [],
   "source": [
    "from math import pi\n",
    "\n",
    "class Circle:\n",
    "    figura = \"circulo\"\n",
    "\n",
    "    def __init__(self, radio):\n",
    "        self.radio = radio\n",
    "    \n",
    "    def area(self):\n",
    "        area_to = pi * (self.radio**2)\n",
    "        return area_to\n",
    "\n",
    "    def perimetro(self):\n",
    "        perimetro_to = 2 * pi * self.radio\n",
    "        return perimetro_to\n",
    "\n",
    "circulo = Circle(radio=5)\n",
    "print(circulo.area())\n",
    "print(circulo.perimetro())"
   ]
  },
  {
   "cell_type": "markdown",
   "metadata": {},
   "source": [
    "* **2.** Write a Python program to create a person class. Include attributes like name, country and date of birth. Implement a method to determine the person's age."
   ]
  },
  {
   "cell_type": "code",
   "execution_count": 1,
   "metadata": {},
   "outputs": [
    {
     "name": "stdout",
     "output_type": "stream",
     "text": [
      "---------\n",
      "Nombre: Matias \n",
      "Pais: Ecuador \n",
      "Fecha de nacimiento: 2018-02-24 \n",
      "Edad: 5\n",
      "---------\n",
      "Nombre: Miguel \n",
      "Pais: Ecuador \n",
      "Fecha de nacimiento: 1998-11-04 \n",
      "Edad: 25\n",
      "---------\n",
      "Nombre: Dayana \n",
      "Pais: Ecuador \n",
      "Fecha de nacimiento: 2001-04-02 \n",
      "Edad: 22\n"
     ]
    }
   ],
   "source": [
    "from datetime import date\n",
    "\n",
    "#definicion de clase\n",
    "class Persona: \n",
    "\n",
    "    def __init__(self, nombre=str, pais=str, fecha_nacimiento = date):\n",
    "        self.nombre = nombre\n",
    "        self.pais = pais\n",
    "        self.fecha_nacimiento = fecha_nacimiento\n",
    "\n",
    "    def calcular_edad(self):\n",
    "        fecha_actual= date.today()\n",
    "        edad = fecha_actual.year - self.fecha_nacimiento.year\n",
    "        return edad\n",
    "    \n",
    "    def info_person(self):\n",
    "        return print(\"---------\\nNombre: %s \\nPais: %s \\nFecha de nacimiento: %s \\nEdad: %i\"%(self.nombre, self.pais, self.fecha_nacimiento, self.calcular_edad()))\n",
    "\n",
    "#objeto\n",
    "persona_1 = Persona(\"Matias\", \"Ecuador\", date(2018, 2, 24)) \n",
    "persona_2 = Persona(\"Miguel\", \"Ecuador\", date(1998, 11, 4)) \n",
    "persona_3 = Persona(\"Dayana\", \"Ecuador\", date(2001, 4, 2)) \n",
    "\n",
    "\n",
    "persona_1.info_person()\n",
    "persona_2.info_person()\n",
    "persona_3.info_person()"
   ]
  },
  {
   "cell_type": "markdown",
   "metadata": {},
   "source": [
    "* **3.** Write a Python program to create a calculator class. Include methods for basic arithmetic operations."
   ]
  },
  {
   "cell_type": "code",
   "execution_count": null,
   "metadata": {},
   "outputs": [],
   "source": [
    "class Calculadora:\n",
    "\n",
    "    #constructor\n",
    "    def __init__(self, n1=int or float, n2=int or float):\n",
    "        self.num1 = n1\n",
    "        self.num2 = n2\n",
    "\n",
    "    def sumar(self):\n",
    "        return self.num1 + self.num2\n",
    "    \n",
    "    def restar(self):\n",
    "        return self.num1 - self.num2\n",
    "    \n",
    "    def multiplicar(self):\n",
    "        return self.num1 * self.num2\n",
    "    \n",
    "    def dividir(self):\n",
    "        return self.num1 - self.num2\n",
    "    \n",
    "    def elevar_potencia(self):\n",
    "        return self.num1 ** self.num\n",
    "    \n",
    "\n",
    "n1 = input(\"Ingrese el primer numero: \")\n",
    "n2 = input(\"Ingrese el segundo numero: \")\n",
    "calculadora = Calculadora(n1 , n2)\n",
    "\n",
    "print(calculadora.sumar())\n",
    "print(calculadora.restar())\n",
    "print(calculadora.multiplicar())\n",
    "print(calculadora.dividir())\n",
    "print(calculadora.elevar_potencia())"
   ]
  },
  {
   "cell_type": "markdown",
   "metadata": {},
   "source": [
    "* **4.** Write a Python program to create a class that represents a shape. Include methods to calculate its area and perimeter. Implement subclasses for different shapes like circle, triangle, and square."
   ]
  },
  {
   "cell_type": "code",
   "execution_count": 1,
   "metadata": {},
   "outputs": [
    {
     "name": "stdout",
     "output_type": "stream",
     "text": [
      "Circulo\n",
      "28.274333882308138\n",
      "18.84955592153876\n",
      "\n",
      "Cuadrado\n",
      "25\n",
      "20\n",
      "\n",
      "Triangulo\n",
      "14.125\n",
      "15\n"
     ]
    }
   ],
   "source": [
    "from math import pi\n",
    "\n",
    "#clase Padre\n",
    "class FiguraGeometrica:\n",
    "\n",
    "    def calcular_area(self):\n",
    "        pass\n",
    "\n",
    "    def calcular_perimetro(self):\n",
    "        pass\n",
    "\n",
    "#clase hija\n",
    "class Circulo(FiguraGeometrica):\n",
    "\n",
    "    def __init__(self, radio=int or float):\n",
    "        self.radio = radio\n",
    "\n",
    "    def calcular_area(self):\n",
    "        area = pi * (self.radio**2)\n",
    "        return area\n",
    "    \n",
    "    def calcular_perimetro(self):\n",
    "        perimetro = 2 * pi * self.radio\n",
    "        return perimetro\n",
    "    \n",
    "#clase hija\n",
    "class Cuadrado(FiguraGeometrica):\n",
    "\n",
    "    def __init__(self, lado=int or float):\n",
    "        self.lado = lado\n",
    "    \n",
    "    def calcular_area(self):\n",
    "        area = self.lado**2\n",
    "        return area \n",
    "    \n",
    "    def calcular_perimetro(self):\n",
    "        perimetro = 4* self.lado\n",
    "        return perimetro\n",
    "    \n",
    "#clase hija\n",
    "class Triangulo(FiguraGeometrica):\n",
    "    \n",
    "    def __init__(self, base=int or float, altura=int or float, lado_izq=int or float, lado_der=int or float):\n",
    "        self.base = base\n",
    "        self.altura = altura \n",
    "        self.lado_izq = lado_izq\n",
    "        self.lado_der = lado_der\n",
    "    \n",
    "    def calcular_area(self):\n",
    "        area = (self.base * self.altura)/ 2\n",
    "        return area \n",
    "    \n",
    "    def calcular_perimetro(self):\n",
    "        perimetro = self.lado_der + self.lado_izq + self.base\n",
    "        return perimetro\n",
    "\n",
    "#instancia de subclase 1\n",
    "try:\n",
    "    print(\"Circulo\")\n",
    "    circulo = Circulo(3)\n",
    "    print(circulo.calcular_area())\n",
    "    print(circulo.calcular_perimetro())\n",
    "\n",
    "    print(\"\\nCuadrado\")\n",
    "    cuadrado = Cuadrado(5)\n",
    "    print(cuadrado.calcular_area())\n",
    "    print(cuadrado.calcular_perimetro())\n",
    "\n",
    "    print(\"\\nTriangulo\")\n",
    "    triangulo = Triangulo(5, 5.65, 5, 5)\n",
    "    print(triangulo.calcular_area())\n",
    "    print(triangulo.calcular_perimetro())\n",
    "\n",
    "except TypeError as e1:\n",
    "    print(e1, \"\\n Tipo de dato incorrecto...\")"
   ]
  }
 ],
 "metadata": {
  "kernelspec": {
   "display_name": "Python 3",
   "language": "python",
   "name": "python3"
  },
  "language_info": {
   "codemirror_mode": {
    "name": "ipython",
    "version": 3
   },
   "file_extension": ".py",
   "mimetype": "text/x-python",
   "name": "python",
   "nbconvert_exporter": "python",
   "pygments_lexer": "ipython3",
   "version": "3.8.10"
  },
  "orig_nbformat": 4
 },
 "nbformat": 4,
 "nbformat_minor": 2
}
