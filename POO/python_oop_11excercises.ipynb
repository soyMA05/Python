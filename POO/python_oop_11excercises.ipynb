{
 "cells": [
  {
   "cell_type": "markdown",
   "metadata": {},
   "source": [
    "# Python Object-Oriented Programming\n",
    "\n",
    "[Link de ejercicios](https://www.w3resource.com/python-exercises/oop/index.php)"
   ]
  },
  {
   "cell_type": "markdown",
   "metadata": {},
   "source": [
    "* **1.** Write a Python program to create a class representing a Circle. Include methods to calculate its area and perimeter."
   ]
  },
  {
   "cell_type": "code",
   "execution_count": null,
   "metadata": {},
   "outputs": [],
   "source": [
    "from math import pi\n",
    "\n",
    "class Circle:\n",
    "    figura = \"circulo\"\n",
    "\n",
    "    def __init__(self, radio):\n",
    "        self.radio = radio\n",
    "    \n",
    "    def area(self):\n",
    "        area_to = pi * (self.radio**2)\n",
    "        return area_to\n",
    "\n",
    "    def perimetro(self):\n",
    "        perimetro_to = 2 * pi * self.radio\n",
    "        return perimetro_to\n",
    "\n",
    "circulo = Circle(radio=5)\n",
    "print(circulo.area())\n",
    "print(circulo.perimetro())"
   ]
  }
 ],
 "metadata": {
  "language_info": {
   "name": "python"
  },
  "orig_nbformat": 4
 },
 "nbformat": 4,
 "nbformat_minor": 2
}
