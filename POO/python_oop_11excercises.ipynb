{
 "cells": [
  {
   "cell_type": "markdown",
   "metadata": {},
   "source": [
    "# Python Object-Oriented Programming\n",
    "\n",
    "[Link de ejercicios](https://www.w3resource.com/python-exercises/oop/index.php)"
   ]
  },
  {
   "cell_type": "markdown",
   "metadata": {},
   "source": [
    "* **1.** Write a Python program to create a class representing a Circle. Include methods to calculate its area and perimeter."
   ]
  },
  {
   "cell_type": "code",
   "execution_count": null,
   "metadata": {},
   "outputs": [],
   "source": [
    "from math import pi\n",
    "\n",
    "class Circle:\n",
    "    figura = \"circulo\"\n",
    "\n",
    "    def __init__(self, radio):\n",
    "        self.radio = radio\n",
    "    \n",
    "    def area(self):\n",
    "        area_to = pi * (self.radio**2)\n",
    "        return area_to\n",
    "\n",
    "    def perimetro(self):\n",
    "        perimetro_to = 2 * pi * self.radio\n",
    "        return perimetro_to\n",
    "\n",
    "circulo = Circle(radio=5)\n",
    "print(circulo.area())\n",
    "print(circulo.perimetro())"
   ]
  },
  {
   "cell_type": "markdown",
   "metadata": {},
   "source": [
    "* **2.** Write a Python program to create a person class. Include attributes like name, country and date of birth. Implement a method to determine the person's age."
   ]
  },
  {
   "cell_type": "code",
   "execution_count": 1,
   "metadata": {},
   "outputs": [
    {
     "name": "stdout",
     "output_type": "stream",
     "text": [
      "---------\n",
      "Nombre: Matias \n",
      "Pais: Ecuador \n",
      "Fecha de nacimiento: 2018-02-24 \n",
      "Edad: 5\n",
      "---------\n",
      "Nombre: Miguel \n",
      "Pais: Ecuador \n",
      "Fecha de nacimiento: 1998-11-04 \n",
      "Edad: 25\n",
      "---------\n",
      "Nombre: Dayana \n",
      "Pais: Ecuador \n",
      "Fecha de nacimiento: 2001-04-02 \n",
      "Edad: 22\n"
     ]
    }
   ],
   "source": [
    "from datetime import date\n",
    "\n",
    "#definicion de clase\n",
    "class Persona: \n",
    "\n",
    "    def __init__(self, nombre=str, pais=str, fecha_nacimiento = date):\n",
    "        self.nombre = nombre\n",
    "        self.pais = pais\n",
    "        self.fecha_nacimiento = fecha_nacimiento\n",
    "\n",
    "    def calcular_edad(self):\n",
    "        fecha_actual= date.today()\n",
    "        edad = fecha_actual.year - self.fecha_nacimiento.year\n",
    "        return edad\n",
    "    \n",
    "    def info_person(self):\n",
    "        return print(\"---------\\nNombre: %s \\nPais: %s \\nFecha de nacimiento: %s \\nEdad: %i\"%(self.nombre, self.pais, self.fecha_nacimiento, self.calcular_edad()))\n",
    "\n",
    "#objeto\n",
    "persona_1 = Persona(\"Matias\", \"Ecuador\", date(2018, 2, 24)) \n",
    "persona_2 = Persona(\"Miguel\", \"Ecuador\", date(1998, 11, 4)) \n",
    "persona_3 = Persona(\"Dayana\", \"Ecuador\", date(2001, 4, 2)) \n",
    "\n",
    "\n",
    "persona_1.info_person()\n",
    "persona_2.info_person()\n",
    "persona_3.info_person()"
   ]
  },
  {
   "cell_type": "markdown",
   "metadata": {},
   "source": [
    "* **3.** Write a Python program to create a calculator class. Include methods for basic arithmetic operations."
   ]
  },
  {
   "cell_type": "code",
   "execution_count": null,
   "metadata": {},
   "outputs": [],
   "source": [
    "class Calculadora:\n",
    "\n",
    "    #constructor\n",
    "    def __init__(self, n1=int or float, n2=int or float):\n",
    "        self.num1 = n1\n",
    "        self.num2 = n2\n",
    "\n",
    "    def sumar(self):\n",
    "        return self.num1 + self.num2\n",
    "    \n",
    "    def restar(self):\n",
    "        return self.num1 - self.num2\n",
    "    \n",
    "    def multiplicar(self):\n",
    "        return self.num1 * self.num2\n",
    "    \n",
    "    def dividir(self):\n",
    "        return self.num1 - self.num2\n",
    "    \n",
    "    def elevar_potencia(self):\n",
    "        return self.num1 ** self.num\n",
    "    \n",
    "\n",
    "n1 = input(\"Ingrese el primer numero: \")\n",
    "n2 = input(\"Ingrese el segundo numero: \")\n",
    "calculadora = Calculadora(n1 , n2)\n",
    "\n",
    "print(calculadora.sumar())\n",
    "print(calculadora.restar())\n",
    "print(calculadora.multiplicar())\n",
    "print(calculadora.dividir())\n",
    "print(calculadora.elevar_potencia())"
   ]
  }
 ],
 "metadata": {
  "kernelspec": {
   "display_name": "Python 3",
   "language": "python",
   "name": "python3"
  },
  "language_info": {
   "codemirror_mode": {
    "name": "ipython",
    "version": 3
   },
   "file_extension": ".py",
   "mimetype": "text/x-python",
   "name": "python",
   "nbconvert_exporter": "python",
   "pygments_lexer": "ipython3",
   "version": "3.8.10"
  },
  "orig_nbformat": 4
 },
 "nbformat": 4,
 "nbformat_minor": 2
}
