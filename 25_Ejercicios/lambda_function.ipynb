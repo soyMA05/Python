{
 "cells": [
  {
   "cell_type": "markdown",
   "metadata": {},
   "source": [
    "# Python Lambda"
   ]
  },
  {
   "cell_type": "markdown",
   "metadata": {},
   "source": [
    "[Link de ejercicios](https://www.w3resource.com/python-exercises/lambda/index.php)"
   ]
  },
  {
   "cell_type": "markdown",
   "metadata": {},
   "source": [
    "* **1.** Write a Python program to create a lambda function that adds 15 to a given number passed in as an argument, also create a lambda function that multiplies argument x with argument y and prints the result.\n"
   ]
  },
  {
   "cell_type": "code",
   "execution_count": 2,
   "metadata": {},
   "outputs": [
    {
     "name": "stdout",
     "output_type": "stream",
     "text": [
      "25\n",
      "25\n",
      "25\n"
     ]
    }
   ],
   "source": [
    "#sumar un numero mas 15\n",
    "sumar_quince = lambda numero : numero + 15\n",
    "#multiplicar un numero por si mismo\n",
    "multiplicar_args = lambda numero: numero * numero\n",
    "#multiplicar numero por otro numero\n",
    "multiplicar_xy = lambda x, y: x * y\n",
    "\n",
    "#mostrar resultados\n",
    "print(sumar_quince(10))\n",
    "print(multiplicar_args(5))\n",
    "print(multiplicar_xy(5,5))"
   ]
  },
  {
   "cell_type": "markdown",
   "metadata": {},
   "source": [
    "* **2.** Write a Python program to create a function that takes one argument, and that argument will be multiplied with an unknown given number."
   ]
  },
  {
   "cell_type": "markdown",
   "metadata": {},
   "source": [
    "**Propuesta**"
   ]
  },
  {
   "cell_type": "code",
   "execution_count": 3,
   "metadata": {},
   "outputs": [
    {
     "name": "stdout",
     "output_type": "stream",
     "text": [
      "12\n"
     ]
    }
   ],
   "source": [
    "import random\n",
    "#multiplicar argumento con numero desconcido\n",
    "multiplicar_argumento = lambda numero : numero * random.randint(1,10)\n",
    "\n",
    "#mostrar resultado\n",
    "print(multiplicar_argumento(3))"
   ]
  },
  {
   "cell_type": "markdown",
   "metadata": {},
   "source": [
    "**Solucion** <br>\n",
    "Maneja funciones de orden superior (segunda caracteristicas, retorna una funcion)"
   ]
  },
  {
   "cell_type": "code",
   "execution_count": 4,
   "metadata": {},
   "outputs": [
    {
     "name": "stdout",
     "output_type": "stream",
     "text": [
      "Double the number of 15 = 30\n",
      "Triple the number of 15 = 45\n",
      "Quadruple the number of 15 = 60\n",
      "Quintuple the number 15 = 75\n"
     ]
    }
   ],
   "source": [
    "def func_compute(n):\n",
    " return lambda x : x * n\n",
    "result = func_compute(2)\n",
    "print(\"Double the number of 15 =\", result(15))\n",
    "result = func_compute(3)\n",
    "print(\"Triple the number of 15 =\", result(15))\n",
    "result = func_compute(4)\n",
    "print(\"Quadruple the number of 15 =\", result(15))\n",
    "result = func_compute(5)\n",
    "print(\"Quintuple the number 15 =\", result(15))"
   ]
  },
  {
   "cell_type": "markdown",
   "metadata": {},
   "source": [
    "* **3.** Write a Python program to sort a list of tuples using Lambda. <br>\n",
    "[('English', 88), ('Science', 90), ('Maths', 97), ('Social sciences', 82)]\n",
    "\n"
   ]
  },
  {
   "cell_type": "code",
   "execution_count": 5,
   "metadata": {},
   "outputs": [
    {
     "name": "stdout",
     "output_type": "stream",
     "text": [
      "[('Maths', 97), ('Science', 90), ('English', 88), ('Social sciences', 82)]\n"
     ]
    }
   ],
   "source": [
    "#extraer el dato de indice 1 de la tupla de cada indice de la lista original\n",
    "ordenar = lambda data : data[1]\n",
    "\n",
    "#lista a ordenar\n",
    "puntaje_asignaturas = [('English', 88), ('Science', 90), ('Maths', 97), ('Social sciences', 82)]\n",
    "#aplicar ordenamiento descendente\n",
    "puntaje_asignaturas.sort(key=ordenar, reverse=True)\n",
    "#mostrar\n",
    "print(puntaje_asignaturas)"
   ]
  },
  {
   "cell_type": "markdown",
   "metadata": {},
   "source": [
    "* **4.** Write a Python program to sort a list of dictionaries using Lambda. <br>\n",
    "[{'make': 'Nokia', 'model': 216, 'color': 'Black'}, {'make': 'Mi Max', 'model': '2', 'color': 'Gold'}, {'make': 'Samsung', 'model': 7, 'color': 'Blue'}]"
   ]
  },
  {
   "cell_type": "markdown",
   "metadata": {},
   "source": [
    "**Propuesta**"
   ]
  },
  {
   "cell_type": "code",
   "execution_count": 6,
   "metadata": {},
   "outputs": [
    {
     "name": "stdout",
     "output_type": "stream",
     "text": [
      "[{'make': 'Mi Max', 'model': '2', 'color': 'Gold'}, {'make': 'Samsung', 'model': 7, 'color': 'Blue'}, {'make': 'Nokia', 'model': 216, 'color': 'Black'}]\n"
     ]
    }
   ],
   "source": [
    "#lista de datos\n",
    "cellphones = [{'make': 'Nokia', 'model': 216, 'color': 'Black'}, \n",
    "              {'make': 'Mi Max', 'model': '2', 'color': 'Gold'}, \n",
    "              {'make': 'Samsung', 'model': 7, 'color': 'Blue'}]\n",
    "#extraer datos \n",
    "extraer = lambda data: int(data.get(\"model\"))\n",
    "#ordenar datos (ascedente)\n",
    "cellphones.sort(key=extraer)\n",
    "#mostrar ordenamiento\n",
    "print(cellphones)"
   ]
  },
  {
   "cell_type": "markdown",
   "metadata": {},
   "source": [
    "**Solucion**"
   ]
  },
  {
   "cell_type": "code",
   "execution_count": 7,
   "metadata": {},
   "outputs": [
    {
     "name": "stdout",
     "output_type": "stream",
     "text": [
      "Original list of dictionaries :\n",
      "[{'make': 'Nokia', 'model': 216, 'color': 'Black'}, {'make': 'Mi Max', 'model': '2', 'color': 'Gold'}, {'make': 'Samsung', 'model': 7, 'color': 'Blue'}]\n",
      "\n",
      "Sorting the List of dictionaries :\n",
      "[{'make': 'Nokia', 'model': 216, 'color': 'Black'}, {'make': 'Samsung', 'model': 7, 'color': 'Blue'}, {'make': 'Mi Max', 'model': '2', 'color': 'Gold'}]\n"
     ]
    }
   ],
   "source": [
    "models = [{'make':'Nokia', 'model':216, 'color':'Black'}, {'make':'Mi Max', 'model':'2', 'color':'Gold'}, {'make':'Samsung', 'model': 7, 'color':'Blue'}]\n",
    "print(\"Original list of dictionaries :\")\n",
    "print(models)\n",
    "sorted_models = sorted(models, key = lambda x: x['color'])\n",
    "print(\"\\nSorting the List of dictionaries :\")\n",
    "print(sorted_models)"
   ]
  },
  {
   "cell_type": "markdown",
   "metadata": {},
   "source": [
    "* **5.** Write a Python program to filter a list of integers using Lambda. <br>\n",
    "[1, 2, 3, 4, 5, 6, 7, 8, 9, 10]"
   ]
  },
  {
   "cell_type": "code",
   "execution_count": 1,
   "metadata": {},
   "outputs": [
    {
     "name": "stdout",
     "output_type": "stream",
     "text": [
      "[2, 4, 6, 8, 10]\n",
      "[1, 3, 5, 7, 9]\n"
     ]
    }
   ],
   "source": [
    "#funciones de control\n",
    "filtrar_pares = lambda data :  data%2 == 0 \n",
    "filtrar_impares = lambda data :  data%2 != 0 \n",
    "#datos\n",
    "enteros = [1, 2, 3, 4, 5, 6, 7, 8, 9, 10]\n",
    "#obtener lista pares e impares\n",
    "pares = list(filter(filtrar_pares, enteros))\n",
    "impares = list(filter(filtrar_impares, enteros))\n",
    "#resultados\n",
    "print(pares)\n",
    "print(impares)"
   ]
  },
  {
   "cell_type": "markdown",
   "metadata": {},
   "source": [
    "*Nota*: las funciones filter, map y reduce funcionan con una funcion y un iterable(lista, tuplas, etc). De acuerdo a la expresion de la funcion, si el argumento cumple la condicion escrita en la expresion, se agrega a la coleccion de elementos que retorna cualquiera de las tres funciones indicadas."
   ]
  },
  {
   "cell_type": "markdown",
   "metadata": {},
   "source": [
    "* **6.** Write a Python program to square and cube every number in a given list of integers using Lambda. <br>\n",
    "[1, 2, 3, 4, 5, 6, 7, 8, 9, 10]"
   ]
  },
  {
   "cell_type": "code",
   "execution_count": 2,
   "metadata": {},
   "outputs": [
    {
     "name": "stdout",
     "output_type": "stream",
     "text": [
      "[1, 4, 9, 16, 25, 36, 49, 64, 81, 100]\n",
      "[1, 8, 27, 64, 125, 216, 343, 512, 729, 1000]\n"
     ]
    }
   ],
   "source": [
    "#funciones de control\n",
    "elevar_cuadrado = lambda data : data**2\n",
    "elevar_cubo = lambda data :  data**3\n",
    "#datos\n",
    "enteros = [1, 2, 3, 4, 5, 6, 7, 8, 9, 10]\n",
    "\n",
    "#obtener lista pares e impares\n",
    "cuadrado = list(map(elevar_cuadrado, enteros))\n",
    "cubo = list(map(elevar_cubo, enteros))\n",
    "#resultados\n",
    "print(cuadrado)\n",
    "print(cubo)"
   ]
  },
  {
   "cell_type": "markdown",
   "metadata": {},
   "source": [
    "* **7.** Write a Python program to find if a given string starts with a given character using Lambda."
   ]
  },
  {
   "cell_type": "code",
   "execution_count": 3,
   "metadata": {},
   "outputs": [
    {
     "name": "stdout",
     "output_type": "stream",
     "text": [
      "True------------------------------->>: hola jaime\n",
      "False>>: como estas?\n",
      "True------------------------------->>: que haces\n",
      "True------------------------------->>: que has hecho el fin de semana?\n"
     ]
    }
   ],
   "source": [
    "#control de caracteres\n",
    "averiguar_caracter = lambda cadena : True if cadena.lower().startswith('h') or cadena.lower().startswith('q') else False\n",
    "#contar coincidencias\n",
    "contador = 0\n",
    "\n",
    "#aplicar funcion hasta 3 coincidencias\n",
    "while contador < 3: \n",
    "    key = input(\"$: \")\n",
    "    if (comprobar := averiguar_caracter(key)) == True:\n",
    "        print('{}------------------------------->>: {}'.format(comprobar, key))\n",
    "        contador += 1\n",
    "    else:\n",
    "        print('{}>>: {}'.format(comprobar, key))"
   ]
  },
  {
   "cell_type": "markdown",
   "metadata": {},
   "source": [
    "* **8.** Write a Python program to extract year, month, date and time using Lambda."
   ]
  },
  {
   "cell_type": "code",
   "execution_count": 4,
   "metadata": {},
   "outputs": [
    {
     "name": "stdout",
     "output_type": "stream",
     "text": [
      "2023\n",
      "8\n",
      "14\n",
      "13:11:42.553904\n"
     ]
    }
   ],
   "source": [
    "import datetime\n",
    "#fecha hoy\n",
    "fecha_actual = datetime.datetime.now()\n",
    "#extraer anio mes, dia y hora exacta\n",
    "anio = lambda data : data.year #att\n",
    "mes = lambda data : data.month \n",
    "dia = lambda data : data.day \n",
    "hora = lambda data : data.time() #metodo\n",
    "#resultado\n",
    "print(anio(fecha_actual))\n",
    "print(mes(fecha_actual))\n",
    "print(dia(fecha_actual))\n",
    "print(hora(fecha_actual))"
   ]
  },
  {
   "cell_type": "markdown",
   "metadata": {},
   "source": [
    "* **9.** Write a Python program to check whether a given string is a number or not using Lambda."
   ]
  },
  {
   "cell_type": "markdown",
   "metadata": {},
   "source": [
    "**Propuesta**"
   ]
  },
  {
   "cell_type": "code",
   "execution_count": 5,
   "metadata": {},
   "outputs": [
    {
     "name": "stdout",
     "output_type": "stream",
     "text": [
      "True------------------->>: 8\n",
      "True------------------->>: -1\n",
      "False\n",
      "False\n",
      "False\n",
      "True------------------->>: 604\n",
      "False\n",
      "Ha escrito salir y salio...\n"
     ]
    }
   ],
   "source": [
    "#comprobar cadena si es numero\n",
    "comprobar_numero = lambda cadena : cadena.isnumeric()\n",
    "#para entrar al bucle\n",
    "entrada = None\n",
    "\n",
    "#al escribir salir, sale del bucle\n",
    "while entrada != \"salir\":\n",
    "    entrada = input(\"Ingrese un numero: \")\n",
    "    if entrada.startswith(\"-\") == True: # comprobar si es numero negativo\n",
    "        if (comprobar := comprobar_numero(entrada[1:]) ) == True: #comprobar que el segundo indice sea un numero\n",
    "            print(\"{}------------------->>: {}\".format(comprobar, entrada))\n",
    "        else: #si existe cualquier caracter que no sea numerico\n",
    "            print(False)\n",
    "    elif (comprobar := comprobar_numero(entrada) ) == True: #verificar directamente al ser un numero positivo\n",
    "            print(\"{}------------------->>: {}\".format(comprobar, entrada))\n",
    "    else:#para cualquier caracter que no sea - y numero\n",
    "        print(False)\n",
    "print(\"Ha escrito salir y salio...\")"
   ]
  },
  {
   "cell_type": "markdown",
   "metadata": {},
   "source": [
    "**Solucion**"
   ]
  },
  {
   "cell_type": "code",
   "execution_count": 6,
   "metadata": {},
   "outputs": [
    {
     "name": "stdout",
     "output_type": "stream",
     "text": [
      "True\n",
      "True\n",
      "False\n",
      "True\n",
      "False\n",
      "True\n",
      "\n",
      "Print checking numbers:\n",
      "True\n",
      "True\n"
     ]
    }
   ],
   "source": [
    "is_num = lambda q: q.replace('.','',1).isdigit()\n",
    "print(is_num('26587'))\n",
    "print(is_num('4.2365'))\n",
    "print(is_num('-12547'))\n",
    "print(is_num('00'))\n",
    "print(is_num('A001'))\n",
    "print(is_num('001'))\n",
    "print(\"\\nPrint checking numbers:\")\n",
    "is_num1 = lambda r: is_num(r[1:]) if r[0]=='-' else is_num(r)\n",
    "print(is_num1('-16.4'))\n",
    "print(is_num1('-24587.11'))"
   ]
  },
  {
   "cell_type": "markdown",
   "metadata": {},
   "source": [
    "* **10.** Write a Python program to create Fibonacci series up to n using Lambda."
   ]
  },
  {
   "cell_type": "code",
   "execution_count": null,
   "metadata": {},
   "outputs": [],
   "source": [
    "#por hacer  "
   ]
  },
  {
   "cell_type": "markdown",
   "metadata": {},
   "source": [
    "* **11.** Write a Python program to find the intersection of two given arrays using Lambda."
   ]
  },
  {
   "cell_type": "code",
   "execution_count": 1,
   "metadata": {},
   "outputs": [
    {
     "name": "stdout",
     "output_type": "stream",
     "text": [
      "[1, 2, 8, 9]\n"
     ]
    }
   ],
   "source": [
    "#listas a comprobar\n",
    "lista1 = [1, 2, 3, 5, 7, 8, 9, 10]\n",
    "lista2 = [1, 2, 4, 8, 9]\n",
    "\n",
    "#verifica si un numero se encuentra en la lista1\n",
    "comprobar = lambda x : x in lista1\n",
    "\n",
    "#crear lista de interseccion\n",
    "interseccion = list(filter(comprobar,lista2))\n",
    "\n",
    "print(interseccion)"
   ]
  },
  {
   "cell_type": "markdown",
   "metadata": {},
   "source": [
    "* **12.** Write a Python program to rearrange positive and negative numbers in a given array using Lambda."
   ]
  },
  {
   "cell_type": "markdown",
   "metadata": {},
   "source": [
    "**Solución**"
   ]
  },
  {
   "cell_type": "code",
   "execution_count": null,
   "metadata": {},
   "outputs": [],
   "source": [
    "\"\"\"\n",
    "Los datos numéricos se ordenarán de forma  creciente al tener la expresión -1/i, de lo contrario decreciente si es 1/i (manejar parametro reverse de lo contrario).\n",
    "sorted() ordena segun lo que key realice: al poner -1 ordenara los datos de la siguiente manera: segun la division -1/i considera la recta del valor absoluto y los numeros mas\n",
    "cercanos a cero iran primero, luego los ceros y por ultimos los numeros que se alejan del cero. Al poner 1/i seria lo contrario.\n",
    "-1 =1 2=-05 -3=0.33 5=-0.2 7=-0.14 8=-0.125 9=-0.1111 -10=0.1 segun el resultados de estas operaciones ordenara sorted.\n",
    "\"\"\"\n",
    "array_nums = [-1, 2, -3, 5, 7, 8, 9, -10]\n",
    "print(\"Original arrays:\")\n",
    "print(array_nums)\n",
    "result = sorted(array_nums, key = lambda i: 0 if i == 0 else -1 / i)\n",
    "print(\"\\nRearrange positive and negative numbers of the said array:\")\n",
    "print(result)"
   ]
  },
  {
   "cell_type": "markdown",
   "metadata": {},
   "source": [
    "* **13.** Write a Python program to count the even and odd numbers in a given array of integers using Lambda."
   ]
  },
  {
   "cell_type": "markdown",
   "metadata": {},
   "source": [
    "**Propuesta**"
   ]
  },
  {
   "cell_type": "code",
   "execution_count": 1,
   "metadata": {},
   "outputs": [
    {
     "name": "stdout",
     "output_type": "stream",
     "text": [
      "3\n",
      "5\n"
     ]
    }
   ],
   "source": [
    "#datos\n",
    "datos = [1, 2, 3, 5, 7, 8, 9, 10]\n",
    "\n",
    "#comprobar si es par o impar\n",
    "contador_pares = lambda x : x % 2 == 0\n",
    "contador_impares = lambda x : x % 2 != 0\n",
    "\n",
    "#obtener cantidad de nros pares e impares\n",
    "resultado_p = len(list(filter(contador_pares, datos)))\n",
    "resultado_i = len(list(filter(contador_impares, datos)))\n",
    "\n",
    "#mostrar\n",
    "print(resultado_p)\n",
    "print(resultado_i)"
   ]
  },
  {
   "cell_type": "markdown",
   "metadata": {},
   "source": [
    "* **14.** Write a Python program to filter a given list to determine if the values in the list have a length of 6 using Lambda."
   ]
  },
  {
   "cell_type": "code",
   "execution_count": 1,
   "metadata": {},
   "outputs": [
    {
     "name": "stdout",
     "output_type": "stream",
     "text": [
      "['Monday', 'Friday', 'Sunday']\n"
     ]
    }
   ],
   "source": [
    "#datos\n",
    "weekdays = ['Monday', 'Tuesday', 'Wednesday', 'Thursday', 'Friday', 'Saturday', 'Sunday']\n",
    "\n",
    "#verificar longitud\n",
    "longitud = lambda x : len(x) ==6\n",
    "\n",
    "#crear lista con datos filtrados\n",
    "filtro = list(filter(longitud,weekdays))\n",
    "\n",
    "#mostrar\n",
    "print(filtro)"
   ]
  },
  {
   "cell_type": "markdown",
   "metadata": {},
   "source": [
    "* **15.** Write a Python program to add two given lists using map and lambda."
   ]
  },
  {
   "cell_type": "code",
   "execution_count": 2,
   "metadata": {},
   "outputs": [
    {
     "name": "stdout",
     "output_type": "stream",
     "text": [
      "[5, 7, 9]\n"
     ]
    }
   ],
   "source": [
    "#datos\n",
    "l1 = [1, 2, 3]\n",
    "l2 = [4, 5, 6]\n",
    "\n",
    "#sumar datos de listas\n",
    "sumar = lambda x,y: x+y\n",
    "\n",
    "#crear lista con la suma de los datos\n",
    "resultado_suma = list(map(sumar, l1,l2))\n",
    "\n",
    "#mostrar\n",
    "print(resultado_suma)"
   ]
  }
 ],
 "metadata": {
  "kernelspec": {
   "display_name": "Python 3",
   "language": "python",
   "name": "python3"
  },
  "language_info": {
   "codemirror_mode": {
    "name": "ipython",
    "version": 3
   },
   "file_extension": ".py",
   "mimetype": "text/x-python",
   "name": "python",
   "nbconvert_exporter": "python",
   "pygments_lexer": "ipython3",
   "version": "3.8.10"
  },
  "orig_nbformat": 4
 },
 "nbformat": 4,
 "nbformat_minor": 2
}
