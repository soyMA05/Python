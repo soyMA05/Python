{
 "cells": [
  {
   "cell_type": "markdown",
   "metadata": {},
   "source": [
    "# Python Lambda"
   ]
  },
  {
   "cell_type": "markdown",
   "metadata": {},
   "source": [
    "[Link de ejercicios](https://www.w3resource.com/python-exercises/lambda/index.php)"
   ]
  },
  {
   "cell_type": "markdown",
   "metadata": {},
   "source": [
    "* **1.** Write a Python program to create a lambda function that adds 15 to a given number passed in as an argument, also create a lambda function that multiplies argument x with argument y and prints the result.\n"
   ]
  },
  {
   "cell_type": "code",
   "execution_count": 2,
   "metadata": {},
   "outputs": [
    {
     "name": "stdout",
     "output_type": "stream",
     "text": [
      "25\n",
      "25\n",
      "25\n"
     ]
    }
   ],
   "source": [
    "#sumar un numero mas 15\n",
    "sumar_quince = lambda numero : numero + 15\n",
    "#multiplicar un numero por si mismo\n",
    "multiplicar_args = lambda numero: numero * numero\n",
    "#multiplicar numero por otro numero\n",
    "multiplicar_xy = lambda x, y: x * y\n",
    "\n",
    "#mostrar resultados\n",
    "print(sumar_quince(10))\n",
    "print(multiplicar_args(5))\n",
    "print(multiplicar_xy(5,5))"
   ]
  },
  {
   "cell_type": "markdown",
   "metadata": {},
   "source": [
    "* **2.** Write a Python program to create a function that takes one argument, and that argument will be multiplied with an unknown given number."
   ]
  },
  {
   "cell_type": "markdown",
   "metadata": {},
   "source": [
    "**Propuesta**"
   ]
  },
  {
   "cell_type": "code",
   "execution_count": 3,
   "metadata": {},
   "outputs": [
    {
     "name": "stdout",
     "output_type": "stream",
     "text": [
      "12\n"
     ]
    }
   ],
   "source": [
    "import random\n",
    "#multiplicar argumento con numero desconcido\n",
    "multiplicar_argumento = lambda numero : numero * random.randint(1,10)\n",
    "\n",
    "#mostrar resultado\n",
    "print(multiplicar_argumento(3))"
   ]
  },
  {
   "cell_type": "markdown",
   "metadata": {},
   "source": [
    "**Solucion** <br>\n",
    "Maneja funciones de orden superior (segunda caracteristicas, retorna una funcion)"
   ]
  },
  {
   "cell_type": "code",
   "execution_count": 4,
   "metadata": {},
   "outputs": [
    {
     "name": "stdout",
     "output_type": "stream",
     "text": [
      "Double the number of 15 = 30\n",
      "Triple the number of 15 = 45\n",
      "Quadruple the number of 15 = 60\n",
      "Quintuple the number 15 = 75\n"
     ]
    }
   ],
   "source": [
    "def func_compute(n):\n",
    " return lambda x : x * n\n",
    "result = func_compute(2)\n",
    "print(\"Double the number of 15 =\", result(15))\n",
    "result = func_compute(3)\n",
    "print(\"Triple the number of 15 =\", result(15))\n",
    "result = func_compute(4)\n",
    "print(\"Quadruple the number of 15 =\", result(15))\n",
    "result = func_compute(5)\n",
    "print(\"Quintuple the number 15 =\", result(15))"
   ]
  },
  {
   "cell_type": "markdown",
   "metadata": {},
   "source": [
    "* **3.** Write a Python program to sort a list of tuples using Lambda. <br>\n",
    "[('English', 88), ('Science', 90), ('Maths', 97), ('Social sciences', 82)]\n",
    "\n"
   ]
  },
  {
   "cell_type": "code",
   "execution_count": 5,
   "metadata": {},
   "outputs": [
    {
     "name": "stdout",
     "output_type": "stream",
     "text": [
      "[('Maths', 97), ('Science', 90), ('English', 88), ('Social sciences', 82)]\n"
     ]
    }
   ],
   "source": [
    "#extraer el dato de indice 1 de la tupla de cada indice de la lista original\n",
    "ordenar = lambda data : data[1]\n",
    "\n",
    "#lista a ordenar\n",
    "puntaje_asignaturas = [('English', 88), ('Science', 90), ('Maths', 97), ('Social sciences', 82)]\n",
    "#aplicar ordenamiento descendente\n",
    "puntaje_asignaturas.sort(key=ordenar, reverse=True)\n",
    "#mostrar\n",
    "print(puntaje_asignaturas)"
   ]
  },
  {
   "cell_type": "markdown",
   "metadata": {},
   "source": [
    "* **4.** Write a Python program to sort a list of dictionaries using Lambda. <br>\n",
    "[{'make': 'Nokia', 'model': 216, 'color': 'Black'}, {'make': 'Mi Max', 'model': '2', 'color': 'Gold'}, {'make': 'Samsung', 'model': 7, 'color': 'Blue'}]"
   ]
  },
  {
   "cell_type": "markdown",
   "metadata": {},
   "source": [
    "**Propuesta**"
   ]
  },
  {
   "cell_type": "code",
   "execution_count": 6,
   "metadata": {},
   "outputs": [
    {
     "name": "stdout",
     "output_type": "stream",
     "text": [
      "[{'make': 'Mi Max', 'model': '2', 'color': 'Gold'}, {'make': 'Samsung', 'model': 7, 'color': 'Blue'}, {'make': 'Nokia', 'model': 216, 'color': 'Black'}]\n"
     ]
    }
   ],
   "source": [
    "#lista de datos\n",
    "cellphones = [{'make': 'Nokia', 'model': 216, 'color': 'Black'}, \n",
    "              {'make': 'Mi Max', 'model': '2', 'color': 'Gold'}, \n",
    "              {'make': 'Samsung', 'model': 7, 'color': 'Blue'}]\n",
    "#extraer datos \n",
    "extraer = lambda data: int(data.get(\"model\"))\n",
    "#ordenar datos (ascedente)\n",
    "cellphones.sort(key=extraer)\n",
    "#mostrar ordenamiento\n",
    "print(cellphones)"
   ]
  },
  {
   "cell_type": "markdown",
   "metadata": {},
   "source": [
    "**Solucion**"
   ]
  },
  {
   "cell_type": "code",
   "execution_count": 7,
   "metadata": {},
   "outputs": [
    {
     "name": "stdout",
     "output_type": "stream",
     "text": [
      "Original list of dictionaries :\n",
      "[{'make': 'Nokia', 'model': 216, 'color': 'Black'}, {'make': 'Mi Max', 'model': '2', 'color': 'Gold'}, {'make': 'Samsung', 'model': 7, 'color': 'Blue'}]\n",
      "\n",
      "Sorting the List of dictionaries :\n",
      "[{'make': 'Nokia', 'model': 216, 'color': 'Black'}, {'make': 'Samsung', 'model': 7, 'color': 'Blue'}, {'make': 'Mi Max', 'model': '2', 'color': 'Gold'}]\n"
     ]
    }
   ],
   "source": [
    "models = [{'make':'Nokia', 'model':216, 'color':'Black'}, {'make':'Mi Max', 'model':'2', 'color':'Gold'}, {'make':'Samsung', 'model': 7, 'color':'Blue'}]\n",
    "print(\"Original list of dictionaries :\")\n",
    "print(models)\n",
    "sorted_models = sorted(models, key = lambda x: x['color'])\n",
    "print(\"\\nSorting the List of dictionaries :\")\n",
    "print(sorted_models)"
   ]
  },
  {
   "cell_type": "markdown",
   "metadata": {},
   "source": [
    "* **5.** Write a Python program to filter a list of integers using Lambda. <br>\n",
    "[1, 2, 3, 4, 5, 6, 7, 8, 9, 10]"
   ]
  },
  {
   "cell_type": "code",
   "execution_count": 1,
   "metadata": {},
   "outputs": [
    {
     "name": "stdout",
     "output_type": "stream",
     "text": [
      "[2, 4, 6, 8, 10]\n",
      "[1, 3, 5, 7, 9]\n"
     ]
    }
   ],
   "source": [
    "#funciones de control\n",
    "filtrar_pares = lambda data :  data%2 == 0 \n",
    "filtrar_impares = lambda data :  data%2 != 0 \n",
    "#datos\n",
    "enteros = [1, 2, 3, 4, 5, 6, 7, 8, 9, 10]\n",
    "#obtener lista pares e impares\n",
    "pares = list(filter(filtrar_pares, enteros))\n",
    "impares = list(filter(filtrar_impares, enteros))\n",
    "#resultados\n",
    "print(pares)\n",
    "print(impares)"
   ]
  },
  {
   "cell_type": "markdown",
   "metadata": {},
   "source": [
    "*Nota*: las funciones filter, map y reduce funcionan con una funcion y un iterable(lista, tuplas, etc). De acuerdo a la expresion de la funcion, si el argumento cumple la condicion escrita en la expresion, se agrega a la coleccion de elementos que retorna cualquiera de las tres funciones indicadas."
   ]
  },
  {
   "cell_type": "code",
   "execution_count": null,
   "metadata": {},
   "outputs": [],
   "source": []
  }
 ],
 "metadata": {
  "kernelspec": {
   "display_name": "Python 3",
   "language": "python",
   "name": "python3"
  },
  "language_info": {
   "codemirror_mode": {
    "name": "ipython",
    "version": 3
   },
   "file_extension": ".py",
   "mimetype": "text/x-python",
   "name": "python",
   "nbconvert_exporter": "python",
   "pygments_lexer": "ipython3",
   "version": "3.8.10"
  },
  "orig_nbformat": 4
 },
 "nbformat": 4,
 "nbformat_minor": 2
}
