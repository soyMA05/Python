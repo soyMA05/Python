{
 "cells": [
  {
   "attachments": {},
   "cell_type": "markdown",
   "metadata": {},
   "source": [
    "# Python Exception Handling\n",
    "[Link de Ejercicios](https://www.w3resource.com/python-exercises/python-exception-handling-exercises.php)"
   ]
  },
  {
   "attachments": {},
   "cell_type": "markdown",
   "metadata": {},
   "source": [
    "* 1. Write a Python program to handle a ZeroDivisionError exception when dividing a number by zero."
   ]
  },
  {
   "cell_type": "code",
   "execution_count": 4,
   "metadata": {},
   "outputs": [
    {
     "name": "stdout",
     "output_type": "stream",
     "text": [
      "No se ha ingresado correctamente un numero entero\n",
      "division by zero\n",
      "No se puede dividir un numero para cero, intente nuevamente\n",
      "60 / 10 = 6\n"
     ]
    }
   ],
   "source": [
    "#variables \n",
    "numerador=None\n",
    "denominador=None\n",
    "rpta = None\n",
    "\n",
    "#bucle para tratar entradas de numeros\n",
    "while (type(numerador) and type(denominador) and type(rpta)) is not int:\n",
    "    try:\n",
    "        numerador=int(input(\"Ingrese el numerador: \"))\n",
    "        denominador=int(input(\"Ingrese el denominador: \"))\n",
    "        rpta = int(numerador/denominador)\n",
    "        print(numerador,\"/\",denominador,\"=\",rpta)\n",
    "    except ValueError:\n",
    "        print(\"No se ha ingresado correctamente un numero entero\")\n",
    "\n",
    "    except ZeroDivisionError as ze:\n",
    "        print(ze)\n",
    "        print(\"No se puede dividir un numero para cero, intente nuevamente\")\n"
   ]
  }
 ],
 "metadata": {
  "kernelspec": {
   "display_name": "Python 3",
   "language": "python",
   "name": "python3"
  },
  "language_info": {
   "codemirror_mode": {
    "name": "ipython",
    "version": 3
   },
   "file_extension": ".py",
   "mimetype": "text/x-python",
   "name": "python",
   "nbconvert_exporter": "python",
   "pygments_lexer": "ipython3",
   "version": "3.8.10"
  },
  "orig_nbformat": 4
 },
 "nbformat": 4,
 "nbformat_minor": 2
}
