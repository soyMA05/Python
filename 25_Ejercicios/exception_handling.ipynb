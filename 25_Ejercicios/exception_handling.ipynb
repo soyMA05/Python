{
 "cells": [
  {
   "attachments": {},
   "cell_type": "markdown",
   "metadata": {},
   "source": [
    "# Python Exception Handling\n",
    "[Link de Ejercicios](https://www.w3resource.com/python-exercises/python-exception-handling-exercises.php)"
   ]
  },
  {
   "attachments": {},
   "cell_type": "markdown",
   "metadata": {},
   "source": [
    "* **1.** Write a Python program to handle a ZeroDivisionError exception when dividing a number by zero."
   ]
  },
  {
   "attachments": {},
   "cell_type": "markdown",
   "metadata": {},
   "source": [
    "**Mi propuesta**"
   ]
  },
  {
   "cell_type": "code",
   "execution_count": 4,
   "metadata": {},
   "outputs": [
    {
     "name": "stdout",
     "output_type": "stream",
     "text": [
      "No se ha ingresado correctamente un numero entero\n",
      "division by zero\n",
      "No se puede dividir un numero para cero, intente nuevamente\n",
      "60 / 10 = 6\n"
     ]
    }
   ],
   "source": [
    "#variables \n",
    "numerador=None\n",
    "denominador=None\n",
    "rpta = None\n",
    "\n",
    "#bucle para tratar entradas de numeros\n",
    "while (type(numerador) and type(denominador) and type(rpta)) is not int:\n",
    "    try:\n",
    "        numerador=int(input(\"Ingrese el numerador: \"))\n",
    "        denominador=int(input(\"Ingrese el denominador: \"))\n",
    "        rpta = int(numerador/denominador)\n",
    "        print(numerador,\"/\",denominador,\"=\",rpta)\n",
    "    except ValueError:\n",
    "        print(\"No se ha ingresado correctamente un numero entero\")\n",
    "\n",
    "    except ZeroDivisionError as ze:\n",
    "        print(ze)\n",
    "        print(\"No se puede dividir un numero para cero, intente nuevamente\")\n"
   ]
  },
  {
   "attachments": {},
   "cell_type": "markdown",
   "metadata": {},
   "source": [
    "**Solucion**"
   ]
  },
  {
   "cell_type": "code",
   "execution_count": null,
   "metadata": {},
   "outputs": [],
   "source": [
    "def divide_numbers(x, y):\n",
    "    try:\n",
    "        result = x / y\n",
    "        print(\"Result:\", result)\n",
    "    except ZeroDivisionError:\n",
    "        print(\"The division by zero operation is not allowed.\")\n",
    "# Usage\n",
    "numerator = 100\n",
    "denominator = 0\n",
    "divide_numbers(numerator, denominator)"
   ]
  },
  {
   "attachments": {},
   "cell_type": "markdown",
   "metadata": {},
   "source": [
    "* **2.** Write a Python program that prompts the user to input an integer and raises a ValueError exception if the input is not a valid integer."
   ]
  },
  {
   "attachments": {},
   "cell_type": "markdown",
   "metadata": {},
   "source": [
    "**Propuesta 1**"
   ]
  },
  {
   "cell_type": "code",
   "execution_count": 4,
   "metadata": {},
   "outputs": [
    {
     "name": "stdout",
     "output_type": "stream",
     "text": [
      "invalid literal for int() with base 10: 'a' \n",
      " Dato ingresado incorrectamente, intente nuevamente\n",
      "invalid literal for int() with base 10: 'h' \n",
      " Dato ingresado incorrectamente, intente nuevamente\n",
      "invalid literal for int() with base 10: 'f' \n",
      " Dato ingresado incorrectamente, intente nuevamente\n",
      "Numero ingresado:  25\n"
     ]
    }
   ],
   "source": [
    "numero = None\n",
    "while type(numero) is not int:\n",
    "    try:\n",
    "        numero = int(input(\"Ingrese un numero: \"))\n",
    "    except ValueError as e:\n",
    "        print(e,\"\\n\", \"Dato ingresado incorrectamente, intente nuevamente\")\n",
    "\n",
    "if numero is not None:\n",
    "    print(\"Numero ingresado: \",numero)"
   ]
  },
  {
   "attachments": {},
   "cell_type": "markdown",
   "metadata": {},
   "source": [
    "**Propuesta 2**"
   ]
  },
  {
   "cell_type": "code",
   "execution_count": 1,
   "metadata": {},
   "outputs": [
    {
     "name": "stdout",
     "output_type": "stream",
     "text": [
      "invalid literal for int() with base 10: 'd' \n",
      " Dato ingresado incorrectamente\n",
      "Numero ingresado es un entero  5\n",
      "Numero ingresado es un entero  23\n",
      "Ha salido...\n"
     ]
    }
   ],
   "source": [
    "salir = 0\n",
    "while salir==0:\n",
    "    try:\n",
    "        numero = int(input(\"Ingrese un numero: \"))\n",
    "        if isinstance(numero,int):\n",
    "            print(\"Numero ingresado es un entero \",numero)\n",
    "    except ValueError as e:\n",
    "        print(e,\"\\n\", \"Dato ingresado incorrectamente\")\n",
    "\n",
    "    salir = int(input(\"Salir=1, Continuar=0 \\n>:  \"))\n",
    "    \n",
    "print(\"Ha salido...\")"
   ]
  },
  {
   "attachments": {},
   "cell_type": "markdown",
   "metadata": {},
   "source": [
    "**Solucion**"
   ]
  },
  {
   "cell_type": "code",
   "execution_count": null,
   "metadata": {},
   "outputs": [],
   "source": [
    "def get_integer_input(prompt):\n",
    "        try:\n",
    "            value = int(input(prompt))\n",
    "            return value\n",
    "        except ValueError:\n",
    "            print(\"Error: Invalid input, input a valid integer.\")\n",
    "# Usage\n",
    "n = get_integer_input(\"Input an integer: \")\n",
    "print(\"Input value:\", n)"
   ]
  },
  {
   "attachments": {},
   "cell_type": "markdown",
   "metadata": {},
   "source": [
    "* **3.** Write a Python program that opens a file and handles a FileNotFoundError exception if the file does not exist."
   ]
  },
  {
   "attachments": {},
   "cell_type": "markdown",
   "metadata": {},
   "source": [
    "**Propuesta**"
   ]
  },
  {
   "cell_type": "code",
   "execution_count": 4,
   "metadata": {},
   "outputs": [
    {
     "name": "stdout",
     "output_type": "stream",
     "text": [
      "[Errno 2] No such file or directory: 'archivodepru' \n",
      "No existe, intente nuevamente...\n",
      "[Errno 2] No such file or directory: 'prueba' \n",
      "No existe, intente nuevamente...\n",
      "Hola\n",
      "Estoy haciendo una prueba de lectura, escritura y sobreescritura de archivos\n",
      "\n",
      "Hasta pronto!\n",
      "salir=0\n",
      "while salir == 0:\n",
      "    try:\n",
      "        nombre_archivo= str(input(\"Ingrese el nombre del archivo a leer: \"))\n",
      "        with open(nombre_archivo, \"r\") as archivo:\n",
      "            print(archivo.read())\n",
      "            archivo.close()\n",
      "    except FileNotFoundError as ex:\n",
      "        print(ex,\"\\nNo existe, intente nuevamente...\")\n",
      "\n",
      "    salir = int(input(\"Digite 1=Salir, 0=Continuar \\n>:  \"))\n",
      "    \n",
      "print(\"Ha salido...\")\n",
      "Ha salido...\n"
     ]
    }
   ],
   "source": [
    "salir=0\n",
    "while salir == 0:\n",
    "    try:\n",
    "        nombre_archivo= str(input(\"Ingrese el nombre del archivo a leer: \"))\n",
    "        with open(nombre_archivo, \"r\") as archivo:\n",
    "            print(archivo.read())\n",
    "            archivo.close()\n",
    "    except FileNotFoundError as ex:\n",
    "        print(ex,\"\\nNo existe, intente nuevamente...\")\n",
    "\n",
    "    salir = int(input(\"Digite 1=Salir, 0=Continuar \\n>:  \"))\n",
    "    \n",
    "print(\"Ha salido...\")"
   ]
  },
  {
   "attachments": {},
   "cell_type": "markdown",
   "metadata": {},
   "source": [
    "**Solucion**"
   ]
  },
  {
   "cell_type": "code",
   "execution_count": null,
   "metadata": {},
   "outputs": [],
   "source": [
    "def open_file(filename):\n",
    "    try:\n",
    "        file = open(filename, 'r')\n",
    "        contents = file.read()\n",
    "        print(\"File contents:\")\n",
    "        print(contents)\n",
    "        file.close()\n",
    "    except FileNotFoundError:\n",
    "        print(\"Error: File not found.\")\n",
    "# Usage\n",
    "file_name = input(\"Input a file name: \")\n",
    "open_file(file_name)"
   ]
  },
  {
   "attachments": {},
   "cell_type": "markdown",
   "metadata": {},
   "source": [
    "* **4.** Write a Python program that prompts the user to input two numbers and raises a TypeError exception if the inputs are not numerical."
   ]
  },
  {
   "attachments": {},
   "cell_type": "markdown",
   "metadata": {},
   "source": [
    "**Propuesta**"
   ]
  },
  {
   "cell_type": "code",
   "execution_count": 5,
   "metadata": {},
   "outputs": [
    {
     "name": "stdout",
     "output_type": "stream",
     "text": [
      "invalid literal for int() with base 10: 'a' \n",
      "No son numeros, intente nuevamente...\n",
      "Los datos ingresados son numeros!\n",
      "invalid literal for int() with base 10: 'a' \n",
      "No son numeros, intente nuevamente...\n",
      "Los datos ingresados son numeros!\n",
      "Ha salido...\n"
     ]
    }
   ],
   "source": [
    "opciones_salir = [\"a\",\"b\"]\n",
    "salir = False\n",
    "rpta_salir = None\n",
    "\n",
    "#manejo del ingreso de datos a comprobar\n",
    "while salir == False:\n",
    "    try:\n",
    "        #entrada de datos\n",
    "        numero1 = input(\"Ingrese el primer numero: \")\n",
    "        numero2 = input(\"Ingrese el segundo numero: \")\n",
    "\n",
    "        #condicionales para asegurar dos tipos de datos para el ingreso, de lo contrario repite el bucle\n",
    "        if \".\" in numero1:\n",
    "            float(numero1)\n",
    "        else:\n",
    "            int(numero1)\n",
    "\n",
    "        if \".\" in numero2:\n",
    "            float(numero2)\n",
    "        else:\n",
    "            int(numero2)\n",
    "        \n",
    "        #confirmacion correcta de datos\n",
    "        if (type(numero1) is int or float) and (type(numero2) is int or float):\n",
    "            print('Los datos ingresados son numeros!')\n",
    "\n",
    "            # control de continuidad para el usuario\n",
    "            while rpta_salir not in opciones_salir:\n",
    "                rpta_salir = input(\"Digite:  \\na=Salir, b=Continuar \\n>:  \").lower()\n",
    "\n",
    "        #condicional de salida de la app\n",
    "        if rpta_salir == \"a\":\n",
    "            salir = True\n",
    "        rpta_salir = None\n",
    "\n",
    "    except ValueError as e:\n",
    "        print(e, '\\nNo son numeros, intente nuevamente...')\n",
    "    \n",
    "print(\"Ha salido...\")"
   ]
  },
  {
   "attachments": {},
   "cell_type": "markdown",
   "metadata": {},
   "source": [
    "**Solucion**"
   ]
  },
  {
   "cell_type": "code",
   "execution_count": null,
   "metadata": {},
   "outputs": [],
   "source": [
    "def get_numeric_input(prompt):\n",
    "    while True:\n",
    "        try:\n",
    "            value = float(input(prompt))\n",
    "            return value\n",
    "        except ValueError:\n",
    "            print(\"Error: Invalid input. Please Input a valid number.\")\n",
    "# Usage\n",
    "n1 = get_numeric_input(\"Input the first number: \")\n",
    "n2 = get_numeric_input(\"Input the second number: \")\n",
    "result = n1 * n2\n",
    "print(\"Product of the said two numbers:\", result)"
   ]
  }
 ],
 "metadata": {
  "kernelspec": {
   "display_name": "Python 3",
   "language": "python",
   "name": "python3"
  },
  "language_info": {
   "codemirror_mode": {
    "name": "ipython",
    "version": 3
   },
   "file_extension": ".py",
   "mimetype": "text/x-python",
   "name": "python",
   "nbconvert_exporter": "python",
   "pygments_lexer": "ipython3",
   "version": "3.8.10"
  },
  "orig_nbformat": 4
 },
 "nbformat": 4,
 "nbformat_minor": 2
}
