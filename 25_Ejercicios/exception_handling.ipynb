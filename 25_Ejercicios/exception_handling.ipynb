{
 "cells": [
  {
   "attachments": {},
   "cell_type": "markdown",
   "metadata": {},
   "source": [
    "# Python Exception Handling\n",
    "[Link de Ejercicios](https://www.w3resource.com/python-exercises/python-exception-handling-exercises.php)"
   ]
  },
  {
   "attachments": {},
   "cell_type": "markdown",
   "metadata": {},
   "source": [
    "* **1.** Write a Python program to handle a ZeroDivisionError exception when dividing a number by zero."
   ]
  },
  {
   "attachments": {},
   "cell_type": "markdown",
   "metadata": {},
   "source": [
    "**Mi propuesta**"
   ]
  },
  {
   "cell_type": "code",
   "execution_count": 4,
   "metadata": {},
   "outputs": [
    {
     "name": "stdout",
     "output_type": "stream",
     "text": [
      "No se ha ingresado correctamente un numero entero\n",
      "division by zero\n",
      "No se puede dividir un numero para cero, intente nuevamente\n",
      "60 / 10 = 6\n"
     ]
    }
   ],
   "source": [
    "#variables \n",
    "numerador=None\n",
    "denominador=None\n",
    "rpta = None\n",
    "\n",
    "#bucle para tratar entradas de numeros\n",
    "while (type(numerador) and type(denominador) and type(rpta)) is not int:\n",
    "    try:\n",
    "        numerador=int(input(\"Ingrese el numerador: \"))\n",
    "        denominador=int(input(\"Ingrese el denominador: \"))\n",
    "        rpta = int(numerador/denominador)\n",
    "        print(numerador,\"/\",denominador,\"=\",rpta)\n",
    "    except ValueError:\n",
    "        print(\"No se ha ingresado correctamente un numero entero\")\n",
    "\n",
    "    except ZeroDivisionError as ze:\n",
    "        print(ze)\n",
    "        print(\"No se puede dividir un numero para cero, intente nuevamente\")\n"
   ]
  },
  {
   "attachments": {},
   "cell_type": "markdown",
   "metadata": {},
   "source": [
    "**Solucion**"
   ]
  },
  {
   "cell_type": "code",
   "execution_count": null,
   "metadata": {},
   "outputs": [],
   "source": [
    "def divide_numbers(x, y):\n",
    "    try:\n",
    "        result = x / y\n",
    "        print(\"Result:\", result)\n",
    "    except ZeroDivisionError:\n",
    "        print(\"The division by zero operation is not allowed.\")\n",
    "# Usage\n",
    "numerator = 100\n",
    "denominator = 0\n",
    "divide_numbers(numerator, denominator)"
   ]
  },
  {
   "attachments": {},
   "cell_type": "markdown",
   "metadata": {},
   "source": [
    "* **2.** Write a Python program that prompts the user to input an integer and raises a ValueError exception if the input is not a valid integer."
   ]
  },
  {
   "attachments": {},
   "cell_type": "markdown",
   "metadata": {},
   "source": [
    "**Propuesta 1**"
   ]
  },
  {
   "cell_type": "code",
   "execution_count": 4,
   "metadata": {},
   "outputs": [
    {
     "name": "stdout",
     "output_type": "stream",
     "text": [
      "invalid literal for int() with base 10: 'a' \n",
      " Dato ingresado incorrectamente, intente nuevamente\n",
      "invalid literal for int() with base 10: 'h' \n",
      " Dato ingresado incorrectamente, intente nuevamente\n",
      "invalid literal for int() with base 10: 'f' \n",
      " Dato ingresado incorrectamente, intente nuevamente\n",
      "Numero ingresado:  25\n"
     ]
    }
   ],
   "source": [
    "numero = None\n",
    "while type(numero) is not int:\n",
    "    try:\n",
    "        numero = int(input(\"Ingrese un numero: \"))\n",
    "    except ValueError as e:\n",
    "        print(e,\"\\n\", \"Dato ingresado incorrectamente, intente nuevamente\")\n",
    "\n",
    "if numero is not None:\n",
    "    print(\"Numero ingresado: \",numero)"
   ]
  },
  {
   "attachments": {},
   "cell_type": "markdown",
   "metadata": {},
   "source": [
    "**Propuesta 2**"
   ]
  },
  {
   "cell_type": "code",
   "execution_count": 1,
   "metadata": {},
   "outputs": [
    {
     "name": "stdout",
     "output_type": "stream",
     "text": [
      "invalid literal for int() with base 10: 'd' \n",
      " Dato ingresado incorrectamente\n",
      "Numero ingresado es un entero  5\n",
      "Numero ingresado es un entero  23\n",
      "Ha salido...\n"
     ]
    }
   ],
   "source": [
    "salir = 0\n",
    "while salir==0:\n",
    "    try:\n",
    "        numero = int(input(\"Ingrese un numero: \"))\n",
    "        if isinstance(numero,int):\n",
    "            print(\"Numero ingresado es un entero \",numero)\n",
    "    except ValueError as e:\n",
    "        print(e,\"\\n\", \"Dato ingresado incorrectamente\")\n",
    "\n",
    "    salir = int(input(\"Salir=1, Continuar=0 \\n>:  \"))\n",
    "    \n",
    "print(\"Ha salido...\")"
   ]
  },
  {
   "attachments": {},
   "cell_type": "markdown",
   "metadata": {},
   "source": [
    "**Solucion**"
   ]
  },
  {
   "cell_type": "code",
   "execution_count": null,
   "metadata": {},
   "outputs": [],
   "source": [
    "def get_integer_input(prompt):\n",
    "        try:\n",
    "            value = int(input(prompt))\n",
    "            return value\n",
    "        except ValueError:\n",
    "            print(\"Error: Invalid input, input a valid integer.\")\n",
    "# Usage\n",
    "n = get_integer_input(\"Input an integer: \")\n",
    "print(\"Input value:\", n)"
   ]
  },
  {
   "attachments": {},
   "cell_type": "markdown",
   "metadata": {},
   "source": [
    "* **3.** Write a Python program that opens a file and handles a FileNotFoundError exception if the file does not exist."
   ]
  },
  {
   "attachments": {},
   "cell_type": "markdown",
   "metadata": {},
   "source": [
    "**Propuesta**"
   ]
  },
  {
   "cell_type": "code",
   "execution_count": 4,
   "metadata": {},
   "outputs": [
    {
     "name": "stdout",
     "output_type": "stream",
     "text": [
      "[Errno 2] No such file or directory: 'archivodepru' \n",
      "No existe, intente nuevamente...\n",
      "[Errno 2] No such file or directory: 'prueba' \n",
      "No existe, intente nuevamente...\n",
      "Hola\n",
      "Estoy haciendo una prueba de lectura, escritura y sobreescritura de archivos\n",
      "\n",
      "Hasta pronto!\n",
      "salir=0\n",
      "while salir == 0:\n",
      "    try:\n",
      "        nombre_archivo= str(input(\"Ingrese el nombre del archivo a leer: \"))\n",
      "        with open(nombre_archivo, \"r\") as archivo:\n",
      "            print(archivo.read())\n",
      "            archivo.close()\n",
      "    except FileNotFoundError as ex:\n",
      "        print(ex,\"\\nNo existe, intente nuevamente...\")\n",
      "\n",
      "    salir = int(input(\"Digite 1=Salir, 0=Continuar \\n>:  \"))\n",
      "    \n",
      "print(\"Ha salido...\")\n",
      "Ha salido...\n"
     ]
    }
   ],
   "source": [
    "salir=0\n",
    "while salir == 0:\n",
    "    try:\n",
    "        nombre_archivo= str(input(\"Ingrese el nombre del archivo a leer: \"))\n",
    "        with open(nombre_archivo, \"r\") as archivo:\n",
    "            print(archivo.read())\n",
    "            archivo.close()\n",
    "    except FileNotFoundError as ex:\n",
    "        print(ex,\"\\nNo existe, intente nuevamente...\")\n",
    "\n",
    "    salir = int(input(\"Digite 1=Salir, 0=Continuar \\n>:  \"))\n",
    "    \n",
    "print(\"Ha salido...\")"
   ]
  },
  {
   "attachments": {},
   "cell_type": "markdown",
   "metadata": {},
   "source": [
    "**Solucion**"
   ]
  },
  {
   "cell_type": "code",
   "execution_count": null,
   "metadata": {},
   "outputs": [],
   "source": [
    "def open_file(filename):\n",
    "    try:\n",
    "        file = open(filename, 'r')\n",
    "        contents = file.read()\n",
    "        print(\"File contents:\")\n",
    "        print(contents)\n",
    "        file.close()\n",
    "    except FileNotFoundError:\n",
    "        print(\"Error: File not found.\")\n",
    "# Usage\n",
    "file_name = input(\"Input a file name: \")\n",
    "open_file(file_name)"
   ]
  },
  {
   "attachments": {},
   "cell_type": "markdown",
   "metadata": {},
   "source": [
    "* **4.** Write a Python program that prompts the user to input two numbers and raises a TypeError exception if the inputs are not numerical."
   ]
  },
  {
   "attachments": {},
   "cell_type": "markdown",
   "metadata": {},
   "source": [
    "**Propuesta**"
   ]
  },
  {
   "cell_type": "code",
   "execution_count": 5,
   "metadata": {},
   "outputs": [
    {
     "name": "stdout",
     "output_type": "stream",
     "text": [
      "invalid literal for int() with base 10: 'a' \n",
      "No son numeros, intente nuevamente...\n",
      "Los datos ingresados son numeros!\n",
      "invalid literal for int() with base 10: 'a' \n",
      "No son numeros, intente nuevamente...\n",
      "Los datos ingresados son numeros!\n",
      "Ha salido...\n"
     ]
    }
   ],
   "source": [
    "opciones_salir = [\"a\",\"b\"]\n",
    "salir = False\n",
    "rpta_salir = None\n",
    "\n",
    "#manejo del ingreso de datos a comprobar\n",
    "while salir == False:\n",
    "    try:\n",
    "        #entrada de datos\n",
    "        numero1 = input(\"Ingrese el primer numero: \")\n",
    "        numero2 = input(\"Ingrese el segundo numero: \")\n",
    "\n",
    "        #condicionales para asegurar dos tipos de datos para el ingreso, de lo contrario repite el bucle\n",
    "        if \".\" in numero1:\n",
    "            float(numero1)\n",
    "        else:\n",
    "            int(numero1)\n",
    "\n",
    "        if \".\" in numero2:\n",
    "            float(numero2)\n",
    "        else:\n",
    "            int(numero2)\n",
    "        \n",
    "        #confirmacion correcta de datos\n",
    "        if (type(numero1) is int or float) and (type(numero2) is int or float):\n",
    "            print('Los datos ingresados son numeros!')\n",
    "\n",
    "            # control de continuidad para el usuario\n",
    "            while rpta_salir not in opciones_salir:\n",
    "                rpta_salir = input(\"Digite:  \\na=Salir, b=Continuar \\n>:  \").lower()\n",
    "\n",
    "        #condicional de salida de la app\n",
    "        if rpta_salir == \"a\":\n",
    "            salir = True\n",
    "        rpta_salir = None\n",
    "\n",
    "    except ValueError as e:\n",
    "        print(e, '\\nNo son numeros, intente nuevamente...')\n",
    "    \n",
    "print(\"Ha salido...\")"
   ]
  },
  {
   "attachments": {},
   "cell_type": "markdown",
   "metadata": {},
   "source": [
    "**Solucion**"
   ]
  },
  {
   "cell_type": "code",
   "execution_count": null,
   "metadata": {},
   "outputs": [],
   "source": [
    "def get_numeric_input(prompt):\n",
    "    while True:\n",
    "        try:\n",
    "            value = float(input(prompt))\n",
    "            return value\n",
    "        except ValueError:\n",
    "            print(\"Error: Invalid input. Please Input a valid number.\")\n",
    "# Usage\n",
    "n1 = get_numeric_input(\"Input the first number: \")\n",
    "n2 = get_numeric_input(\"Input the second number: \")\n",
    "result = n1 * n2\n",
    "print(\"Product of the said two numbers:\", result)"
   ]
  },
  {
   "attachments": {},
   "cell_type": "markdown",
   "metadata": {},
   "source": [
    "* **5.** Write a Python program that opens a file and handles a PermissionError exception if there is a permission issue."
   ]
  },
  {
   "attachments": {},
   "cell_type": "markdown",
   "metadata": {},
   "source": [
    "**Propuesta**"
   ]
  },
  {
   "cell_type": "code",
   "execution_count": 1,
   "metadata": {},
   "outputs": [
    {
     "name": "stdout",
     "output_type": "stream",
     "text": [
      "La ubicacion existe\n",
      "Es un archivo\n",
      "#lib\n",
      "import os\n",
      "\n",
      "opciones_salir = [\"si\",\"no\"]\n",
      "salir = False\n",
      "rpta_salir = None\n",
      "\n",
      "#manejo del ingreso de datos a comprobar\n",
      "while salir == False:\n",
      "    try:\n",
      "        #entrada de datos\n",
      "        ubicacion = input(\"Ingrese la ubicacion completa del archivo (Windows=\\ \\, Linux=/)): \")\n",
      "        path = ubicacion\n",
      "\n",
      "        if os.path.exists(path):\n",
      "            print(\"La ubicacion existe\")\n",
      "            if os.path.isfile(path):\n",
      "                print(\"Es un archivo\")\n",
      "                with open(path, \"r\") as archivo:\n",
      "                    print(archivo.read())\n",
      "                    archivo.close()\n",
      "            elif os.path.isdir(path):\n",
      "                print(\"Es un directorio!\")\n",
      "        else:\n",
      "            print(\"La ubicacion NO existe\")\n",
      "\n",
      "\n",
      "\n",
      "        # control de continuidad para el usuario\n",
      "        while rpta_salir not in opciones_salir:\n",
      "            rpta_salir = input(\"Desea continuar? \\n(Escriba 'si' o 'no') \\n>:  \").lower()\n",
      "\n",
      "        #condicional de salida de la app\n",
      "        if rpta_salir == \"no\":\n",
      "            salir = True\n",
      "        rpta_salir = None\n",
      "\n",
      "    except FileNotFoundError as ex:\n",
      "        print(ex,\"\\nEl archivo NO EXISTE, intente nuevamente...\")\n",
      "    \n",
      "    except PermissionError as pex:\n",
      "        print(pex,\"\\nNo se tiene permisos de acceso, intente nuevamente...\")\n",
      "\n",
      "    \n",
      "print(\"Ha salido...\")\n",
      "La ubicacion NO existe\n",
      "La ubicacion NO existe\n",
      "Ha salido...\n"
     ]
    }
   ],
   "source": [
    "#lib\n",
    "import os\n",
    "\n",
    "opciones_salir = [\"si\",\"no\"]\n",
    "salir = False\n",
    "rpta_salir = None\n",
    "\n",
    "#manejo del ingreso de datos a comprobar\n",
    "while salir == False:\n",
    "    try:\n",
    "        #entrada de datos\n",
    "        ubicacion = input(\"Ingrese la ubicacion completa del archivo (Windows=\\ \\, Linux=/)): \")\n",
    "        path = ubicacion\n",
    "\n",
    "        if os.path.exists(path):\n",
    "            print(\"La ubicacion existe\")\n",
    "            if os.path.isfile(path):\n",
    "                print(\"Es un archivo\")\n",
    "                with open(path, \"r\") as archivo:\n",
    "                    print(archivo.read())\n",
    "                    archivo.close()\n",
    "            elif os.path.isdir(path):\n",
    "                print(\"Es un directorio!\")\n",
    "        else:\n",
    "            print(\"La ubicacion NO existe\")\n",
    "\n",
    "        # control de continuidad para el usuario\n",
    "        while rpta_salir not in opciones_salir:\n",
    "            rpta_salir = input(\"Desea continuar? \\n(Escriba 'si' o 'no') \\n>:  \").lower()\n",
    "\n",
    "        #condicional de salida de la app\n",
    "        if rpta_salir == \"no\":\n",
    "            salir = True\n",
    "        rpta_salir = None\n",
    "\n",
    "    except FileNotFoundError as ex:\n",
    "        print(ex,\"\\nEl archivo NO EXISTE, intente nuevamente...\")\n",
    "    \n",
    "    except PermissionError as pex:\n",
    "        print(pex,\"\\nNo se tiene permisos de acceso, intente nuevamente...\")\n",
    "\n",
    "    \n",
    "print(\"Ha salido...\")"
   ]
  },
  {
   "attachments": {},
   "cell_type": "markdown",
   "metadata": {},
   "source": [
    "**Solucion**"
   ]
  },
  {
   "cell_type": "code",
   "execution_count": null,
   "metadata": {},
   "outputs": [],
   "source": [
    "def open_file(filename):\n",
    "    try:\n",
    "        with open(filename, 'w') as file:\n",
    "            contents = file.read()\n",
    "            print(\"File contents:\")\n",
    "            print(contents)\n",
    "    except PermissionError:\n",
    "        print(\"Error: Permission denied to open the file.\")\n",
    "\n",
    "# Usage\n",
    "file_name = input(\"Input a file name: \")\n",
    "open_file(file_name)"
   ]
  },
  {
   "attachments": {},
   "cell_type": "markdown",
   "metadata": {},
   "source": [
    "* **6.** Write a Python program that executes an operation on a list and handles an IndexError exception if the index is out of range."
   ]
  },
  {
   "attachments": {},
   "cell_type": "markdown",
   "metadata": {},
   "source": [
    "**Propuesta**"
   ]
  },
  {
   "cell_type": "code",
   "execution_count": 1,
   "metadata": {},
   "outputs": [
    {
     "name": "stdout",
     "output_type": "stream",
     "text": [
      "\n",
      "\t\t** MENU DEL DIA **\n",
      "1. Ternera\n",
      "2. Pizza\n",
      "3. Champiniones con Pollo\n",
      "4. Camarones reventados\n",
      "5. Lechon hornado\n",
      "invalid literal for int() with base 10: 'a' \n",
      "Dato ingresado incorrectamente, intente nuevamente...\n",
      "list index out of range \n",
      "Ese plato no existe, intente nuevamente...\n",
      "Plato seleccionado:  Pizza\n"
     ]
    }
   ],
   "source": [
    "platos_carta = [\"Ternera\",\"Pizza\",\"Champiniones con Pollo\",\"Camarones reventados\",\"Lechon hornado\"]\n",
    "#presentar platos disponibles en la lista\n",
    "def presentar_platos():\n",
    "    contador_plato = 1\n",
    "    print(\"\\n\\t\\t** MENU DEL DIA **\")\n",
    "    for plato in platos_carta:\n",
    "        print(\"{}. {}\".format(contador_plato, plato))\n",
    "        contador_plato += 1\n",
    "\n",
    "#escoger un plato de la lista\n",
    "def agregar_plato():\n",
    "    buscar_plato = None\n",
    "    seleccion_plato = None\n",
    "    \n",
    "\n",
    "    #se presentan los platos del dia\n",
    "    presentar_platos()\n",
    "\n",
    "    #seleccionar unicamente los platos se encuentra en la lista de platos_carta\n",
    "    while buscar_plato not in platos_carta:\n",
    "        try :\n",
    "            seleccion_plato = int(input(\"\\nSeleccione el numero del plato: \"))\n",
    "            buscar_plato = platos_carta[seleccion_plato-1]\n",
    "        \n",
    "        #manejo de excepciones\n",
    "        except ValueError as ev:\n",
    "            print(ev, '\\nDato ingresado incorrectamente, intente nuevamente...')\n",
    "\n",
    "        except IndexError as e:\n",
    "            print(e,\"\\nEse plato no existe, intente nuevamente...\")\n",
    "\n",
    "    if buscar_plato in platos_carta:\n",
    "        #imprimo el plato seleccionado y lo agrego a la lista de pedidos\n",
    "        print(\"Plato seleccionado: \", buscar_plato)\n",
    "\n",
    "#empezar\n",
    "agregar_plato()"
   ]
  },
  {
   "attachments": {},
   "cell_type": "markdown",
   "metadata": {},
   "source": [
    "**Solucion**"
   ]
  },
  {
   "cell_type": "code",
   "execution_count": null,
   "metadata": {},
   "outputs": [],
   "source": [
    "def test_index(data, index):\n",
    "    try:\n",
    "        result = data[index]\n",
    "        # Perform desired operation using the result\n",
    "        print(\"Result:\", result)\n",
    "    except IndexError:\n",
    "        print(\"Error: Index out of range.\")\n",
    "\n",
    "\n",
    "nums = [1, 2, 3, 4, 5, 6, 7]\n",
    "index = int(input(\"Input the index: \"))\n",
    "test_index(nums, index)"
   ]
  },
  {
   "attachments": {},
   "cell_type": "markdown",
   "metadata": {},
   "source": [
    "* **7.** Write a Python program that prompts the user to input a number and handles a KeyboardInterrupt exception if the user cancels the input."
   ]
  },
  {
   "attachments": {},
   "cell_type": "markdown",
   "metadata": {},
   "source": [
    "**Propuesta**"
   ]
  },
  {
   "cell_type": "code",
   "execution_count": 10,
   "metadata": {},
   "outputs": [
    {
     "name": "stdout",
     "output_type": "stream",
     "text": [
      "invalid literal for int() with base 10: 'a' Dato ingresado incorrectamente, NO es un numero entero.\n",
      "invalid literal for int() with base 10: 'holaa' Dato ingresado incorrectamente, NO es un numero entero.\n",
      "Numero ingresado:  5\n",
      "Numero ingresado:  10\n",
      "Numero ingresado:  20\n",
      "invalid literal for int() with base 10: '' Dato ingresado incorrectamente, NO es un numero entero.\n",
      "Numero ingresado:  50\n",
      "Interrupted by user Entrada cancelada por el usuario... Ha pulsado CTRL + C\n"
     ]
    }
   ],
   "source": [
    "def get_number(n):\n",
    "    try:\n",
    "        return int(n)\n",
    "    except ValueError as ex:\n",
    "        print(ex, \"Dato ingresado incorrectamente, NO es un numero entero.\")\n",
    "\n",
    "try:\n",
    "    while True:\n",
    "        number = input(\"Ingrese un numero: \")\n",
    "        number = get_number(number)\n",
    "        if type(number) == int:\n",
    "            print(\"Numero ingresado: \",number)\n",
    "\n",
    "except KeyboardInterrupt as e:\n",
    "    print(e, \"Entrada cancelada por el usuario... Ha pulsado CTRL + C\")"
   ]
  },
  {
   "attachments": {},
   "cell_type": "markdown",
   "metadata": {},
   "source": [
    "**Solucion**"
   ]
  },
  {
   "cell_type": "code",
   "execution_count": null,
   "metadata": {},
   "outputs": [],
   "source": [
    "try:\n",
    "    n = int(input(\"Input a number: \"))\n",
    "    print(\"You entered:\", n)\n",
    "except KeyboardInterrupt:\n",
    "    print(\"Input canceled by the user.\")"
   ]
  },
  {
   "attachments": {},
   "cell_type": "markdown",
   "metadata": {},
   "source": [
    "* **8.** Write a Python program that executes division and handles an ArithmeticError exception if there is an arithmetic error."
   ]
  },
  {
   "cell_type": "code",
   "execution_count": 11,
   "metadata": {},
   "outputs": [
    {
     "name": "stdout",
     "output_type": "stream",
     "text": [
      "Datos ingresados incorrectamente, se necesitan dos numeros especificamente.\n",
      "division by zero \n",
      "Error aritmetico ocurrido\n",
      "8/9 = 0.8888888888888888\n",
      "365/7 = 52.142857142857146\n",
      "Entrada cancelada por el usuario... Ha pulsado CTRL + C\n"
     ]
    }
   ],
   "source": [
    "try:\n",
    "    #bucle para tratar entradas de numeros\n",
    "    while True:\n",
    "        try:\n",
    "            #entrada de datos\n",
    "            numerador = input(\"Ingrese el numerador: \")\n",
    "            denominador = input(\"Ingrese el denominador: \")\n",
    "            \n",
    "            #condicionales para asegurar dos tipos de datos para el ingreso, de lo contrario repite el bucle\n",
    "            if \".\" in numerador:\n",
    "                num = float(numerador)\n",
    "            else:\n",
    "                num = int(numerador)\n",
    "\n",
    "            if \".\" in denominador:\n",
    "                den = float(denominador)\n",
    "            else:\n",
    "                den = int(denominador)\n",
    "\n",
    "            rpta = num/den\n",
    "\n",
    "            print(\"{}/{} = {}\".format(numerador, denominador, rpta))\n",
    "        except ValueError:\n",
    "            print(\"Datos ingresados incorrectamente, se necesitan dos numeros especificamente.\")\n",
    "\n",
    "        except ArithmeticError as arex:\n",
    "            print(arex,\"\\nError aritmetico ocurrido\")\n",
    "\n",
    "except KeyboardInterrupt:\n",
    "    print(\"Entrada cancelada por el usuario... Ha pulsado CTRL + C\")"
   ]
  },
  {
   "attachments": {},
   "cell_type": "markdown",
   "metadata": {},
   "source": [
    "**Solucion**"
   ]
  },
  {
   "cell_type": "code",
   "execution_count": null,
   "metadata": {},
   "outputs": [],
   "source": [
    "def division(dividend, divisor):\n",
    "    try:\n",
    "        result = dividend / divisor\n",
    "        print(\"Result:\", result)\n",
    "    except ArithmeticError:\n",
    "        print(\"Error: Arithmetic error occurred!\")\n",
    "#Usage\n",
    "dividend = float(input(\"Input the dividend: \"))\n",
    "divisor = float(input(\"Input the divisor: \"))\n",
    "division(dividend, divisor)"
   ]
  },
  {
   "attachments": {},
   "cell_type": "markdown",
   "metadata": {},
   "source": [
    "* **9.** Write a Python program that opens a file and handles a UnicodeDecodeError exception if there is an encoding issue."
   ]
  },
  {
   "attachments": {},
   "cell_type": "markdown",
   "metadata": {},
   "source": [
    "**Propuesta**"
   ]
  },
  {
   "cell_type": "code",
   "execution_count": 1,
   "metadata": {},
   "outputs": [
    {
     "name": "stdout",
     "output_type": "stream",
     "text": [
      "\"¡Hola, mundo!\"\n",
      "Estoy haciendo una prueba de lectura, escritura y sobreescritura de archivos\n",
      "password @#$!@##(8)\n",
      "\"!Hasta pronto!\n",
      "Error de codificacion de archivo\n",
      "Error de codificacion de archivo\n",
      "Oh! Ha salido...!!\n"
     ]
    }
   ],
   "source": [
    "salir=0\n",
    "while salir == 0:\n",
    "    nombre_archivo= input(\"Ingrese el nombre del archivo a leer: \")\n",
    "    tipo = input(\"Tipo de codificacion (UTF-8, UTF-16, ASCII): \").upper()\n",
    "    \n",
    "    if tipo == 'UTF-8' or tipo == 'UTF-16' or tipo == 'ASCII':\n",
    "        try:\n",
    "            with open(nombre_archivo, mode = \"r\", encoding=tipo) as archivo:\n",
    "                print(archivo.read())\n",
    "                archivo.close()\n",
    "        except FileNotFoundError as ex:\n",
    "            print(ex,\"\\nEse archivo No existe, intente nuevamente...\")\n",
    "        except UnicodeDecodeError:\n",
    "            print(\"Error de codificacion de archivo\")\n",
    "        except UnicodeError:\n",
    "            print(\"Error de codificacion de archivo\")\n",
    "    else:\n",
    "        print('Intente nuevamente no existe ese tipo de codificacion.')\n",
    "\n",
    "    salir = int(input(\"Digite 1=Salir, 0=Continuar \\n>:  \"))\n",
    "    \n",
    "print(\"Oh! Ha salido...!!\")"
   ]
  },
  {
   "attachments": {},
   "cell_type": "markdown",
   "metadata": {},
   "source": [
    "**Solucion**"
   ]
  },
  {
   "cell_type": "code",
   "execution_count": null,
   "metadata": {},
   "outputs": [],
   "source": [
    "def open_file(filename):\n",
    "    encoding = input(\"Input the encoding (ASCII,UTF-16,UTF-8) for the file: \")\n",
    "    try:\n",
    "        with open(filename, 'r', encoding=encoding) as file:\n",
    "            contents = file.read()\n",
    "            print(\"File contents:\")\n",
    "            print(contents)\n",
    "    except UnicodeDecodeError:\n",
    "        print(\"Error: Encoding issue occurred while reading the file.\")\n",
    "# Usage\n",
    "file_name = input(\"Input the file name: \")\n",
    "open_file(file_name)"
   ]
  },
  {
   "attachments": {},
   "cell_type": "markdown",
   "metadata": {},
   "source": [
    "* **10.** Write a Python program that executes a list operation and handles an AttributeError exception if the attribute does not exist."
   ]
  },
  {
   "attachments": {},
   "cell_type": "markdown",
   "metadata": {},
   "source": [
    "**Propuesta**"
   ]
  },
  {
   "cell_type": "code",
   "execution_count": 2,
   "metadata": {},
   "outputs": [
    {
     "name": "stdout",
     "output_type": "stream",
     "text": [
      "Pluma\n",
      "croquetas\n",
      "Pastor Aleman\n",
      "wao wao, grr...\n",
      "'Perro' object has no attribute 'corre' \n",
      " El objeto no cuenta con ese atributo\n"
     ]
    }
   ],
   "source": [
    "class Animal:\n",
    "    def dormir(self):\n",
    "        print(\"Animal durmiendo\")\n",
    "    \n",
    "    def comer(self):\n",
    "        print(\"Animal comiendo\")\n",
    "\n",
    "class Perro(Animal):\n",
    "    ladra = \"wao wao, grr...\"\n",
    "    \n",
    "    def __init__(self, nombre, raza, comida):\n",
    "        self.nombre = nombre\n",
    "        self.raza = raza\n",
    "        self.comida = comida\n",
    "    \n",
    "    def saludar(self):\n",
    "        print(\"Soy {} de raza {} me gusta {} y por lo tanto {}\".format(self.nombre, self.raza, self.comida, self.comer()))\n",
    "\n",
    "try:\n",
    "    perro1 = Perro(nombre=\"Pluma\",raza=\"Pastor Aleman\", comida=\"croquetas\")\n",
    "    perro2 = Perro(nombre=\"Posi\",raza=\"Pastor Aleman\", comida=\"croquetas\")\n",
    "    perro3 = Perro(nombre=\"Nez\",raza=\"Pastor Aleman\", comida=\"croquetas\")\n",
    "    perro4 = Perro(nombre=\"Lluvia\",raza=\"San Bernardo\", comida=\"croquetas\")\n",
    "\n",
    "    print(perro1.nombre)\n",
    "    print(perro1.comida)\n",
    "    print(perro1.raza)\n",
    "    print(perro1.ladra)\n",
    "    print(perro1.corre)#este atributo es la causa del error\n",
    "\n",
    "    lista = [perro1, perro2, perro3, perro4]\n",
    "    lista.len #este atributo debe generar error\n",
    "except AttributeError as e:\n",
    "    print(e,'\\n El objeto no cuenta con ese atributo')"
   ]
  },
  {
   "attachments": {},
   "cell_type": "markdown",
   "metadata": {},
   "source": [
    "**Solucion**"
   ]
  },
  {
   "cell_type": "code",
   "execution_count": null,
   "metadata": {},
   "outputs": [],
   "source": [
    "#CASO 1\n",
    "def test_list_operation(nums):\n",
    "    try:\n",
    "        r = len(nums)  # Trying to access the length attribute\n",
    "        print(\"Length of the list:\", r)\n",
    "    except AttributeError:\n",
    "        print(\"Error: The list does not have a 'length' attribute.\")\n",
    "nums = [1, 2, 3, 4, 5]\n",
    "test_list_operation(nums)\n",
    "\n",
    "\n",
    "#CASO 2\n",
    "def test_list_operation(nums):\n",
    "    try:\n",
    "        r1 = nums.lengtha  # Trying to access the 'length' attribute\n",
    "        print(\"Length of the list:\", r1)\n",
    "    except AttributeError:\n",
    "        print(\"Error: The list does not have a 'length' attribute.\")\n",
    "nums = [1, 2, 3, 4, 5]\n",
    "test_list_operation(nums) "
   ]
  }
 ],
 "metadata": {
  "kernelspec": {
   "display_name": "Python 3",
   "language": "python",
   "name": "python3"
  },
  "language_info": {
   "codemirror_mode": {
    "name": "ipython",
    "version": 3
   },
   "file_extension": ".py",
   "mimetype": "text/x-python",
   "name": "python",
   "nbconvert_exporter": "python",
   "pygments_lexer": "ipython3",
   "version": "3.8.10"
  },
  "orig_nbformat": 4
 },
 "nbformat": 4,
 "nbformat_minor": 2
}
