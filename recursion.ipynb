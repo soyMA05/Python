{
 "cells": [
  {
   "cell_type": "markdown",
   "metadata": {},
   "source": [
    "# Ejercicios de Recursividad"
   ]
  },
  {
   "cell_type": "markdown",
   "metadata": {},
   "source": [
    "## Ejercicio de graficar un arbol inverso"
   ]
  },
  {
   "cell_type": "code",
   "execution_count": 1,
   "metadata": {},
   "outputs": [
    {
     "name": "stdout",
     "output_type": "stream",
     "text": [
      "\n",
      "*\n",
      "**\n",
      "***\n",
      "****\n",
      "*****\n",
      "****\n",
      "***\n",
      "**\n",
      "*\n"
     ]
    }
   ],
   "source": [
    "n=0\n",
    "while n != 10:\n",
    "    print('*' * (5-abs(5-n)) )\n",
    "    n+=1"
   ]
  },
  {
   "cell_type": "markdown",
   "metadata": {},
   "source": [
    "# Lectura y Movimiento de Archivos"
   ]
  },
  {
   "cell_type": "code",
   "execution_count": 40,
   "metadata": {},
   "outputs": [],
   "source": [
    "import pandas as pd\n",
    "import numpy as np\n",
    "\"\"\"busqueda de patrones\"\"\"\n",
    "import re\n",
    "\"\"\"manipular rutas del sistema operativo\"\"\"\n",
    "import os\n",
    "os.environ['TF_CPP_MIN_LOG_LEVEL'] = '3' \n",
    "\"\"\"encontrar directorios\"\"\"\n",
    "import pathlib as pl\n",
    "\"\"\"operar sobre archivos\"\"\"\n",
    "import shutil"
   ]
  },
  {
   "cell_type": "code",
   "execution_count": 12,
   "metadata": {},
   "outputs": [
    {
     "data": {
      "text/html": [
       "<div>\n",
       "<style scoped>\n",
       "    .dataframe tbody tr th:only-of-type {\n",
       "        vertical-align: middle;\n",
       "    }\n",
       "\n",
       "    .dataframe tbody tr th {\n",
       "        vertical-align: top;\n",
       "    }\n",
       "\n",
       "    .dataframe thead th {\n",
       "        text-align: right;\n",
       "    }\n",
       "</style>\n",
       "<table border=\"1\" class=\"dataframe\">\n",
       "  <thead>\n",
       "    <tr style=\"text-align: right;\">\n",
       "      <th></th>\n",
       "      <th>Nro Requerimiento</th>\n",
       "      <th>Estado</th>\n",
       "      <th>Responsable</th>\n",
       "    </tr>\n",
       "  </thead>\n",
       "  <tbody>\n",
       "    <tr>\n",
       "      <th>0</th>\n",
       "      <td>7770</td>\n",
       "      <td>OK</td>\n",
       "      <td>Miguel</td>\n",
       "    </tr>\n",
       "    <tr>\n",
       "      <th>1</th>\n",
       "      <td>7771</td>\n",
       "      <td>OK</td>\n",
       "      <td>Oscar</td>\n",
       "    </tr>\n",
       "    <tr>\n",
       "      <th>2</th>\n",
       "      <td>7772</td>\n",
       "      <td>OK</td>\n",
       "      <td>Miguel</td>\n",
       "    </tr>\n",
       "    <tr>\n",
       "      <th>3</th>\n",
       "      <td>7773</td>\n",
       "      <td>OK</td>\n",
       "      <td>Oscar</td>\n",
       "    </tr>\n",
       "    <tr>\n",
       "      <th>4</th>\n",
       "      <td>7774</td>\n",
       "      <td>OK</td>\n",
       "      <td>Miguel</td>\n",
       "    </tr>\n",
       "    <tr>\n",
       "      <th>5</th>\n",
       "      <td>7775</td>\n",
       "      <td>OK</td>\n",
       "      <td>Oscar</td>\n",
       "    </tr>\n",
       "  </tbody>\n",
       "</table>\n",
       "</div>"
      ],
      "text/plain": [
       "   Nro Requerimiento Estado Responsable\n",
       "0               7770     OK      Miguel\n",
       "1               7771     OK       Oscar\n",
       "2               7772     OK      Miguel\n",
       "3               7773     OK       Oscar\n",
       "4               7774     OK      Miguel\n",
       "5               7775     OK       Oscar"
      ]
     },
     "execution_count": 12,
     "metadata": {},
     "output_type": "execute_result"
    }
   ],
   "source": [
    "lista_req = pd.read_csv('../PythonCoding/requerimentos_lista.csv', sep=';')\n",
    "lista_req"
   ]
  },
  {
   "cell_type": "code",
   "execution_count": 55,
   "metadata": {},
   "outputs": [],
   "source": [
    "def listar_archivos(_dictarchidatos:dict, _nro_requerimiento:str):\n",
    "    \"\"\"\n",
    "    Funcion para listar archivos existentes\n",
    "    Args:\n",
    "        _dictrafico (dict): diccionario de directorios de acceso a los archivos de datos.\n",
    "    \"\"\"\n",
    "    assert type(_dictarchidatos)==dict, \"Tipo de dato incorrecto\"\n",
    "    assert type(_nro_requerimiento)==str, \"Tipo de dato incorrecto\"\n",
    "    for clase, directorio in _dictarchidatos.items():\n",
    "        for archivo in directorio:\n",
    "            resultado = re.search(r'\\b{}\\b'.format(_nro_requerimiento), str(archivo))\n",
    "            if resultado:\n",
    "                print(\"%s\" % str(resultado.string))"
   ]
  },
  {
   "cell_type": "code",
   "execution_count": 34,
   "metadata": {},
   "outputs": [],
   "source": [
    "#diccionario de acceso a archivos de extraccion de flujos\n",
    "dir_trafico = pl.Path(\"../PythonCoding/\")\n",
    "\"\"\"crear diccionario para el acceso de archivos\"\"\"\n",
    "dicc_traficoJ = {\n",
    "    'Req':list(dir_trafico.glob('Requerimientos/*.txt'))\n",
    "}"
   ]
  },
  {
   "cell_type": "code",
   "execution_count": 71,
   "metadata": {},
   "outputs": [
    {
     "name": "stdout",
     "output_type": "stream",
     "text": [
      "['REQ 7770 (1).txt', 'REQ 7771 (1).txt', 'REQ 7772 (1).txt', 'REQ 7773 (1).txt', 'REQ 7774 (1).txt', 'REQ 7775 (2).txt', 'REQ 7776 (2).txt', 'REQ 7777 (1).txt', 'REQ 7778 (1).txt']\n"
     ]
    },
    {
     "data": {
      "text/plain": [
       "WindowsPath('Req/Requerimientos')"
      ]
     },
     "execution_count": 71,
     "metadata": {},
     "output_type": "execute_result"
    }
   ],
   "source": [
    "dir_source = \"Req/Requerimientos/\"\n",
    "dir_dest = \"Req/Faltantes\"\n",
    "\"\"\"comprobar directorio principal de imagenes\"\"\"\n",
    "data_dir = pl.Path(dir_source)\n",
    "\"\"\"obtener clases de datos/imagenes\"\"\"\n",
    "class_data = os.listdir(data_dir)\n",
    "\"\"\"mostrar clases\"\"\"\n",
    "print(class_data)\n",
    "\"\"\"mostrar directorio local\"\"\"\n",
    "data_dir"
   ]
  },
  {
   "cell_type": "code",
   "execution_count": 75,
   "metadata": {},
   "outputs": [],
   "source": [
    "def lecturaYmovimiento_dearchivos(_nro_requerimiento:str):\n",
    "    \"\"\"\n",
    "    Funcion para listar archivos existentes\n",
    "    Args:\n",
    "        _dictrafico (dict): diccionario de directorios de acceso a los archivos de datos.\n",
    "    \"\"\"\n",
    "    assert type(_nro_requerimiento)==str, \"Tipo de dato incorrecto\"\n",
    "    for archivo in class_data:\n",
    "        resultado = re.search(r'\\b{}\\b'.format(_nro_requerimiento), str(archivo))\n",
    "        if resultado:\n",
    "            print(\"Archivo encontrado:%s\" % str(resultado.string))\n",
    "        elif resultado is None:\n",
    "            print(f\"Copiando [{archivo}] en {dir_dest}/{archivo}\")\n",
    "            \"\"\"indicar directorio origen de la imagen\"\"\"\n",
    "            source_data = os.path.join(dir_source + \"/\", archivo)\n",
    "            \"\"\"indicar directorio destino de la imagen\"\"\"\n",
    "            dest_data = os.path.join(dir_dest, archivo)\n",
    "            \"\"\"mover imagen\"\"\"\n",
    "            shutil.copy(source_data, dest_data)"
   ]
  },
  {
   "cell_type": "code",
   "execution_count": 65,
   "metadata": {},
   "outputs": [
    {
     "name": "stdout",
     "output_type": "stream",
     "text": [
      "..\\PythonCoding\\Requerimientos\\REQ 7770 (1).txt\n",
      "..\\PythonCoding\\Requerimientos\\REQ 7771 (1).txt\n",
      "..\\PythonCoding\\Requerimientos\\REQ 7772 (1).txt\n",
      "..\\PythonCoding\\Requerimientos\\REQ 7773 (1).txt\n",
      "..\\PythonCoding\\Requerimientos\\REQ 7774 (1).txt\n",
      "..\\PythonCoding\\Requerimientos\\REQ 7775 (2).txt\n"
     ]
    }
   ],
   "source": [
    "#mostrar archivos\n",
    "for i in range(len(lista_req)):\n",
    "    #print(str(lista_req.loc[i,'Nro Requerimiento']))\n",
    "    listar_archivos(dicc_traficoJ, str(lista_req.loc[i,'Nro Requerimiento']))"
   ]
  },
  {
   "cell_type": "code",
   "execution_count": 76,
   "metadata": {},
   "outputs": [
    {
     "name": "stdout",
     "output_type": "stream",
     "text": [
      "Archivo encontrado:REQ 7770 (1).txt\n",
      "Copiando [REQ 7771 (1).txt] en Req/Faltantes/REQ 7771 (1).txt\n",
      "Copiando [REQ 7772 (1).txt] en Req/Faltantes/REQ 7772 (1).txt\n",
      "Copiando [REQ 7773 (1).txt] en Req/Faltantes/REQ 7773 (1).txt\n",
      "Copiando [REQ 7774 (1).txt] en Req/Faltantes/REQ 7774 (1).txt\n",
      "Copiando [REQ 7775 (2).txt] en Req/Faltantes/REQ 7775 (2).txt\n",
      "Copiando [REQ 7776 (2).txt] en Req/Faltantes/REQ 7776 (2).txt\n",
      "Copiando [REQ 7777 (1).txt] en Req/Faltantes/REQ 7777 (1).txt\n",
      "Copiando [REQ 7778 (1).txt] en Req/Faltantes/REQ 7778 (1).txt\n",
      "Copiando [REQ 7770 (1).txt] en Req/Faltantes/REQ 7770 (1).txt\n",
      "Archivo encontrado:REQ 7771 (1).txt\n",
      "Copiando [REQ 7772 (1).txt] en Req/Faltantes/REQ 7772 (1).txt\n",
      "Copiando [REQ 7773 (1).txt] en Req/Faltantes/REQ 7773 (1).txt\n",
      "Copiando [REQ 7774 (1).txt] en Req/Faltantes/REQ 7774 (1).txt\n",
      "Copiando [REQ 7775 (2).txt] en Req/Faltantes/REQ 7775 (2).txt\n",
      "Copiando [REQ 7776 (2).txt] en Req/Faltantes/REQ 7776 (2).txt\n",
      "Copiando [REQ 7777 (1).txt] en Req/Faltantes/REQ 7777 (1).txt\n",
      "Copiando [REQ 7778 (1).txt] en Req/Faltantes/REQ 7778 (1).txt\n",
      "Copiando [REQ 7770 (1).txt] en Req/Faltantes/REQ 7770 (1).txt\n",
      "Copiando [REQ 7771 (1).txt] en Req/Faltantes/REQ 7771 (1).txt\n",
      "Archivo encontrado:REQ 7772 (1).txt\n",
      "Copiando [REQ 7773 (1).txt] en Req/Faltantes/REQ 7773 (1).txt\n",
      "Copiando [REQ 7774 (1).txt] en Req/Faltantes/REQ 7774 (1).txt\n",
      "Copiando [REQ 7775 (2).txt] en Req/Faltantes/REQ 7775 (2).txt\n",
      "Copiando [REQ 7776 (2).txt] en Req/Faltantes/REQ 7776 (2).txt\n",
      "Copiando [REQ 7777 (1).txt] en Req/Faltantes/REQ 7777 (1).txt\n",
      "Copiando [REQ 7778 (1).txt] en Req/Faltantes/REQ 7778 (1).txt\n",
      "Copiando [REQ 7770 (1).txt] en Req/Faltantes/REQ 7770 (1).txt\n",
      "Copiando [REQ 7771 (1).txt] en Req/Faltantes/REQ 7771 (1).txt\n",
      "Copiando [REQ 7772 (1).txt] en Req/Faltantes/REQ 7772 (1).txt\n",
      "Archivo encontrado:REQ 7773 (1).txt\n",
      "Copiando [REQ 7774 (1).txt] en Req/Faltantes/REQ 7774 (1).txt\n",
      "Copiando [REQ 7775 (2).txt] en Req/Faltantes/REQ 7775 (2).txt\n",
      "Copiando [REQ 7776 (2).txt] en Req/Faltantes/REQ 7776 (2).txt\n",
      "Copiando [REQ 7777 (1).txt] en Req/Faltantes/REQ 7777 (1).txt\n",
      "Copiando [REQ 7778 (1).txt] en Req/Faltantes/REQ 7778 (1).txt\n",
      "Copiando [REQ 7770 (1).txt] en Req/Faltantes/REQ 7770 (1).txt\n",
      "Copiando [REQ 7771 (1).txt] en Req/Faltantes/REQ 7771 (1).txt\n",
      "Copiando [REQ 7772 (1).txt] en Req/Faltantes/REQ 7772 (1).txt\n",
      "Copiando [REQ 7773 (1).txt] en Req/Faltantes/REQ 7773 (1).txt\n",
      "Archivo encontrado:REQ 7774 (1).txt\n",
      "Copiando [REQ 7775 (2).txt] en Req/Faltantes/REQ 7775 (2).txt\n",
      "Copiando [REQ 7776 (2).txt] en Req/Faltantes/REQ 7776 (2).txt\n",
      "Copiando [REQ 7777 (1).txt] en Req/Faltantes/REQ 7777 (1).txt\n",
      "Copiando [REQ 7778 (1).txt] en Req/Faltantes/REQ 7778 (1).txt\n",
      "Copiando [REQ 7770 (1).txt] en Req/Faltantes/REQ 7770 (1).txt\n",
      "Copiando [REQ 7771 (1).txt] en Req/Faltantes/REQ 7771 (1).txt\n",
      "Copiando [REQ 7772 (1).txt] en Req/Faltantes/REQ 7772 (1).txt\n",
      "Copiando [REQ 7773 (1).txt] en Req/Faltantes/REQ 7773 (1).txt\n",
      "Copiando [REQ 7774 (1).txt] en Req/Faltantes/REQ 7774 (1).txt\n",
      "Archivo encontrado:REQ 7775 (2).txt\n",
      "Copiando [REQ 7776 (2).txt] en Req/Faltantes/REQ 7776 (2).txt\n",
      "Copiando [REQ 7777 (1).txt] en Req/Faltantes/REQ 7777 (1).txt\n",
      "Copiando [REQ 7778 (1).txt] en Req/Faltantes/REQ 7778 (1).txt\n"
     ]
    }
   ],
   "source": [
    "#mostrar archivos\n",
    "for i in range(len(lista_req)):\n",
    "    #print(str(lista_req.loc[i,'Nro Requerimiento']))\n",
    "    lecturaYmovimiento_dearchivos( str(lista_req.loc[i,'Nro Requerimiento']))"
   ]
  }
 ],
 "metadata": {
  "kernelspec": {
   "display_name": "Python 3",
   "language": "python",
   "name": "python3"
  },
  "language_info": {
   "codemirror_mode": {
    "name": "ipython",
    "version": 3
   },
   "file_extension": ".py",
   "mimetype": "text/x-python",
   "name": "python",
   "nbconvert_exporter": "python",
   "pygments_lexer": "ipython3",
   "version": "3.8.10"
  }
 },
 "nbformat": 4,
 "nbformat_minor": 2
}
